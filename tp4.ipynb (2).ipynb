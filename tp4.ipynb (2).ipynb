{
 "cells": [
  {
   "cell_type": "markdown",
   "id": "66f893b6",
   "metadata": {},
   "source": [
    "### IFT 870 - Forage de donnéesTP#4 : Fonctions descriptives"
   ]
  },
  {
   "cell_type": "raw",
   "id": "a793b779",
   "metadata": {},
   "source": [
    "Kaoutar L'hassnaoui lhak0901........................................... Manal Kaddami kadm0901"
   ]
  },
  {
   "cell_type": "code",
   "execution_count": 7,
   "id": "de78012d",
   "metadata": {},
   "outputs": [],
   "source": [
    "import pandas as pd\n",
    "import numpy as np\n",
    "import matplotlib.pyplot as plt"
   ]
  },
  {
   "cell_type": "code",
   "execution_count": 8,
   "id": "6d475967",
   "metadata": {},
   "outputs": [
    {
     "data": {
      "text/html": [
       "<div>\n",
       "<style scoped>\n",
       "    .dataframe tbody tr th:only-of-type {\n",
       "        vertical-align: middle;\n",
       "    }\n",
       "\n",
       "    .dataframe tbody tr th {\n",
       "        vertical-align: top;\n",
       "    }\n",
       "\n",
       "    .dataframe thead th {\n",
       "        text-align: right;\n",
       "    }\n",
       "</style>\n",
       "<table border=\"1\" class=\"dataframe\">\n",
       "  <thead>\n",
       "    <tr style=\"text-align: right;\">\n",
       "      <th></th>\n",
       "      <th>id</th>\n",
       "      <th>sequence</th>\n",
       "    </tr>\n",
       "  </thead>\n",
       "  <tbody>\n",
       "    <tr>\n",
       "      <th>0</th>\n",
       "      <td>AAIY01303410.1/717-923</td>\n",
       "      <td>CCAACGUGGAUACUCCCGGGAGGUCACUCUCCCCGGGCUCUGUCCA...</td>\n",
       "    </tr>\n",
       "    <tr>\n",
       "      <th>1</th>\n",
       "      <td>CP000140.1/4143906-4143709</td>\n",
       "      <td>UACCUUUGCAUCCGAAUUGGUUCCGUACGCUCGUUCGGGCAUACGG...</td>\n",
       "    </tr>\n",
       "    <tr>\n",
       "      <th>2</th>\n",
       "      <td>URS0000D6BCE7_12908/1-215</td>\n",
       "      <td>GCGUAACGCGCUAUGGCUUAAACGGCUGCCCCAAAGCUGCCAAAGG...</td>\n",
       "    </tr>\n",
       "    <tr>\n",
       "      <th>3</th>\n",
       "      <td>X71081.1/4425-4646</td>\n",
       "      <td>CCAAUGUGGAUAUCCUUAGAGGUCUCUCUUGGGCUCUGUCCAGGUG...</td>\n",
       "    </tr>\n",
       "    <tr>\n",
       "      <th>4</th>\n",
       "      <td>AACY020770731.1/455-512</td>\n",
       "      <td>UUUCGUUCACCCUCAAUUGAGGGCGCAGUUCGAGUCAUACCAUGGA...</td>\n",
       "    </tr>\n",
       "    <tr>\n",
       "      <th>...</th>\n",
       "      <td>...</td>\n",
       "      <td>...</td>\n",
       "    </tr>\n",
       "    <tr>\n",
       "      <th>895</th>\n",
       "      <td>URS0000D6890F_1069618/1-62</td>\n",
       "      <td>CAUCUAUAGUUUCAGACAUGGAAUCGCCGAAAACGUCGGCGGUAAA...</td>\n",
       "    </tr>\n",
       "    <tr>\n",
       "      <th>896</th>\n",
       "      <td>ACLT01000067.1/45633-45455</td>\n",
       "      <td>AAUAACUGAUUGACUGAAAGUAGGAAUUAAAGCCGUCAAGUUGAGC...</td>\n",
       "    </tr>\n",
       "    <tr>\n",
       "      <th>897</th>\n",
       "      <td>URS0000D6BC2B_12908/1-161</td>\n",
       "      <td>UCCGUCAGCUAAUGGCAAUUAGACUGCUGAACUUAAACUGCAUAAG...</td>\n",
       "    </tr>\n",
       "    <tr>\n",
       "      <th>898</th>\n",
       "      <td>URS0000D6B588_12908/1-186</td>\n",
       "      <td>GCGAGAAUGUCUACACACCACGGUGGUAGGCAGAGUGUAUUUGUAA...</td>\n",
       "    </tr>\n",
       "    <tr>\n",
       "      <th>899</th>\n",
       "      <td>CP000449.1/2738434-2738239</td>\n",
       "      <td>UAGCUUUCGCGCCGCGAUGGUUCCCUCACGGGAAUAAUAGGGAAGC...</td>\n",
       "    </tr>\n",
       "  </tbody>\n",
       "</table>\n",
       "<p>900 rows × 2 columns</p>\n",
       "</div>"
      ],
      "text/plain": [
       "                             id  \\\n",
       "0        AAIY01303410.1/717-923   \n",
       "1    CP000140.1/4143906-4143709   \n",
       "2     URS0000D6BCE7_12908/1-215   \n",
       "3            X71081.1/4425-4646   \n",
       "4       AACY020770731.1/455-512   \n",
       "..                          ...   \n",
       "895  URS0000D6890F_1069618/1-62   \n",
       "896  ACLT01000067.1/45633-45455   \n",
       "897   URS0000D6BC2B_12908/1-161   \n",
       "898   URS0000D6B588_12908/1-186   \n",
       "899  CP000449.1/2738434-2738239   \n",
       "\n",
       "                                              sequence  \n",
       "0    CCAACGUGGAUACUCCCGGGAGGUCACUCUCCCCGGGCUCUGUCCA...  \n",
       "1    UACCUUUGCAUCCGAAUUGGUUCCGUACGCUCGUUCGGGCAUACGG...  \n",
       "2    GCGUAACGCGCUAUGGCUUAAACGGCUGCCCCAAAGCUGCCAAAGG...  \n",
       "3    CCAAUGUGGAUAUCCUUAGAGGUCUCUCUUGGGCUCUGUCCAGGUG...  \n",
       "4    UUUCGUUCACCCUCAAUUGAGGGCGCAGUUCGAGUCAUACCAUGGA...  \n",
       "..                                                 ...  \n",
       "895  CAUCUAUAGUUUCAGACAUGGAAUCGCCGAAAACGUCGGCGGUAAA...  \n",
       "896  AAUAACUGAUUGACUGAAAGUAGGAAUUAAAGCCGUCAAGUUGAGC...  \n",
       "897  UCCGUCAGCUAAUGGCAAUUAGACUGCUGAACUUAAACUGCAUAAG...  \n",
       "898  GCGAGAAUGUCUACACACCACGGUGGUAGGCAGAGUGUAUUUGUAA...  \n",
       "899  UAGCUUUCGCGCCGCGAUGGUUCCCUCACGGGAAUAAUAGGGAAGC...  \n",
       "\n",
       "[900 rows x 2 columns]"
      ]
     },
     "execution_count": 8,
     "metadata": {},
     "output_type": "execute_result"
    }
   ],
   "source": [
    "Data=pd.read_csv(r\"C:\\Users\\dell\\Downloads\\TP4_data.csv\")\n",
    "Data"
   ]
  },
  {
   "cell_type": "raw",
   "id": "dc08d5c1",
   "metadata": {},
   "source": [
    "1 a)"
   ]
  },
  {
   "cell_type": "code",
   "execution_count": 9,
   "id": "ca7fb95b",
   "metadata": {},
   "outputs": [
    {
     "data": {
      "image/png": "[encoded data removed]",
      "text/plain": [
       "<Figure size 432x288 with 1 Axes>"
      ]
     },
     "metadata": {
      "needs_background": "light"
     },
     "output_type": "display_data"
    }
   ],
   "source": [
    "plt.hist(Data['sequence'].apply(len), bins=50)\n",
    "plt.title('Distribution des longueurs de séquences')\n",
    "plt.xlabel('Longueur de séquence')\n",
    "plt.ylabel('Nombre d\\'occurrences')\n",
    "plt.show()"
   ]
  },
  {
   "cell_type": "raw",
   "id": "41f98c17",
   "metadata": {},
   "source": [
    "1 b)"
   ]
  },
  {
   "cell_type": "code",
   "execution_count": 10,
   "id": "abf12d6e",
   "metadata": {},
   "outputs": [
    {
     "data": {
      "text/html": [
       "<div>\n",
       "<style scoped>\n",
       "    .dataframe tbody tr th:only-of-type {\n",
       "        vertical-align: middle;\n",
       "    }\n",
       "\n",
       "    .dataframe tbody tr th {\n",
       "        vertical-align: top;\n",
       "    }\n",
       "\n",
       "    .dataframe thead th {\n",
       "        text-align: right;\n",
       "    }\n",
       "</style>\n",
       "<table border=\"1\" class=\"dataframe\">\n",
       "  <thead>\n",
       "    <tr style=\"text-align: right;\">\n",
       "      <th></th>\n",
       "      <th>id</th>\n",
       "      <th>sequence</th>\n",
       "      <th>length</th>\n",
       "      <th>group</th>\n",
       "    </tr>\n",
       "  </thead>\n",
       "  <tbody>\n",
       "    <tr>\n",
       "      <th>0</th>\n",
       "      <td>AAIY01303410.1/717-923</td>\n",
       "      <td>CCAACGUGGAUACUCCCGGGAGGUCACUCUCCCCGGGCUCUGUCCA...</td>\n",
       "      <td>207</td>\n",
       "      <td>2</td>\n",
       "    </tr>\n",
       "    <tr>\n",
       "      <th>1</th>\n",
       "      <td>CP000140.1/4143906-4143709</td>\n",
       "      <td>UACCUUUGCAUCCGAAUUGGUUCCGUACGCUCGUUCGGGCAUACGG...</td>\n",
       "      <td>198</td>\n",
       "      <td>1</td>\n",
       "    </tr>\n",
       "    <tr>\n",
       "      <th>2</th>\n",
       "      <td>URS0000D6BCE7_12908/1-215</td>\n",
       "      <td>GCGUAACGCGCUAUGGCUUAAACGGCUGCCCCAAAGCUGCCAAAGG...</td>\n",
       "      <td>215</td>\n",
       "      <td>2</td>\n",
       "    </tr>\n",
       "    <tr>\n",
       "      <th>3</th>\n",
       "      <td>X71081.1/4425-4646</td>\n",
       "      <td>CCAAUGUGGAUAUCCUUAGAGGUCUCUCUUGGGCUCUGUCCAGGUG...</td>\n",
       "      <td>222</td>\n",
       "      <td>2</td>\n",
       "    </tr>\n",
       "    <tr>\n",
       "      <th>4</th>\n",
       "      <td>AACY020770731.1/455-512</td>\n",
       "      <td>UUUCGUUCACCCUCAAUUGAGGGCGCAGUUCGAGUCAUACCAUGGA...</td>\n",
       "      <td>58</td>\n",
       "      <td>0</td>\n",
       "    </tr>\n",
       "    <tr>\n",
       "      <th>...</th>\n",
       "      <td>...</td>\n",
       "      <td>...</td>\n",
       "      <td>...</td>\n",
       "      <td>...</td>\n",
       "    </tr>\n",
       "    <tr>\n",
       "      <th>895</th>\n",
       "      <td>URS0000D6890F_1069618/1-62</td>\n",
       "      <td>CAUCUAUAGUUUCAGACAUGGAAUCGCCGAAAACGUCGGCGGUAAA...</td>\n",
       "      <td>62</td>\n",
       "      <td>0</td>\n",
       "    </tr>\n",
       "    <tr>\n",
       "      <th>896</th>\n",
       "      <td>ACLT01000067.1/45633-45455</td>\n",
       "      <td>AAUAACUGAUUGACUGAAAGUAGGAAUUAAAGCCGUCAAGUUGAGC...</td>\n",
       "      <td>179</td>\n",
       "      <td>1</td>\n",
       "    </tr>\n",
       "    <tr>\n",
       "      <th>897</th>\n",
       "      <td>URS0000D6BC2B_12908/1-161</td>\n",
       "      <td>UCCGUCAGCUAAUGGCAAUUAGACUGCUGAACUUAAACUGCAUAAG...</td>\n",
       "      <td>161</td>\n",
       "      <td>1</td>\n",
       "    </tr>\n",
       "    <tr>\n",
       "      <th>898</th>\n",
       "      <td>URS0000D6B588_12908/1-186</td>\n",
       "      <td>GCGAGAAUGUCUACACACCACGGUGGUAGGCAGAGUGUAUUUGUAA...</td>\n",
       "      <td>186</td>\n",
       "      <td>1</td>\n",
       "    </tr>\n",
       "    <tr>\n",
       "      <th>899</th>\n",
       "      <td>CP000449.1/2738434-2738239</td>\n",
       "      <td>UAGCUUUCGCGCCGCGAUGGUUCCCUCACGGGAAUAAUAGGGAAGC...</td>\n",
       "      <td>196</td>\n",
       "      <td>1</td>\n",
       "    </tr>\n",
       "  </tbody>\n",
       "</table>\n",
       "<p>900 rows × 4 columns</p>\n",
       "</div>"
      ],
      "text/plain": [
       "                             id  \\\n",
       "0        AAIY01303410.1/717-923   \n",
       "1    CP000140.1/4143906-4143709   \n",
       "2     URS0000D6BCE7_12908/1-215   \n",
       "3            X71081.1/4425-4646   \n",
       "4       AACY020770731.1/455-512   \n",
       "..                          ...   \n",
       "895  URS0000D6890F_1069618/1-62   \n",
       "896  ACLT01000067.1/45633-45455   \n",
       "897   URS0000D6BC2B_12908/1-161   \n",
       "898   URS0000D6B588_12908/1-186   \n",
       "899  CP000449.1/2738434-2738239   \n",
       "\n",
       "                                              sequence  length  group  \n",
       "0    CCAACGUGGAUACUCCCGGGAGGUCACUCUCCCCGGGCUCUGUCCA...     207      2  \n",
       "1    UACCUUUGCAUCCGAAUUGGUUCCGUACGCUCGUUCGGGCAUACGG...     198      1  \n",
       "2    GCGUAACGCGCUAUGGCUUAAACGGCUGCCCCAAAGCUGCCAAAGG...     215      2  \n",
       "3    CCAAUGUGGAUAUCCUUAGAGGUCUCUCUUGGGCUCUGUCCAGGUG...     222      2  \n",
       "4    UUUCGUUCACCCUCAAUUGAGGGCGCAGUUCGAGUCAUACCAUGGA...      58      0  \n",
       "..                                                 ...     ...    ...  \n",
       "895  CAUCUAUAGUUUCAGACAUGGAAUCGCCGAAAACGUCGGCGGUAAA...      62      0  \n",
       "896  AAUAACUGAUUGACUGAAAGUAGGAAUUAAAGCCGUCAAGUUGAGC...     179      1  \n",
       "897  UCCGUCAGCUAAUGGCAAUUAGACUGCUGAACUUAAACUGCAUAAG...     161      1  \n",
       "898  GCGAGAAUGUCUACACACCACGGUGGUAGGCAGAGUGUAUUUGUAA...     186      1  \n",
       "899  UAGCUUUCGCGCCGCGAUGGUUCCCUCACGGGAAUAAUAGGGAAGC...     196      1  \n",
       "\n",
       "[900 rows x 4 columns]"
      ]
     },
     "execution_count": 10,
     "metadata": {},
     "output_type": "execute_result"
    }
   ],
   "source": [
    "df=Data.copy()\n",
    "# On définit les intervalles de longueur des séquences\n",
    "bins = [0, 100, 200, 300, 400, 500, 1000, 1500, 2000, float('inf')]\n",
    "\n",
    "# On ajoute une colonne pour la longueur de la séquence\n",
    "df['length'] = df['sequence'].apply(len)\n",
    "\n",
    "# On ajoute une colonne pour le groupe de longueur\n",
    "df['group'] = pd.cut(df['length'], bins=bins, labels=False)\n",
    "\n",
    "# On affiche le nouveau DataFrame\n",
    "df"
   ]
  },
  {
   "cell_type": "raw",
   "id": "6de3d77a",
   "metadata": {},
   "source": [
    "2 a)"
   ]
  },
  {
   "cell_type": "code",
   "execution_count": 11,
   "id": "c24cdcd7",
   "metadata": {},
   "outputs": [
    {
     "name": "stderr",
     "output_type": "stream",
     "text": [
      "C:\\Users\\dell\\anaconda3\\lib\\site-packages\\sklearn\\utils\\deprecation.py:87: FutureWarning: Function get_feature_names is deprecated; get_feature_names is deprecated in 1.0 and will be removed in 1.2. Please use get_feature_names_out instead.\n",
      "  warnings.warn(msg, category=FutureWarning)\n"
     ]
    },
    {
     "name": "stdout",
     "output_type": "stream",
     "text": [
      "['aa', 'aaa', 'aaaa', 'aaac', 'aaag', 'aaau', 'aac', 'aaca', 'aacc', 'aacg', 'aacu', 'aag', 'aaga', 'aagc', 'aagg', 'aagu', 'aau', 'aaua', 'aauc', 'aaug', 'aauu', 'ac', 'aca', 'acaa', 'acac', 'acag', 'acau', 'acc', 'acca', 'accc', 'accg', 'accu', 'acg', 'acga', 'acgc', 'acgg', 'acgu', 'acu', 'acua', 'acuc', 'acug', 'acuu', 'ag', 'aga', 'agaa', 'agac', 'agag', 'agau', 'agc', 'agca', 'agcc', 'agcg', 'agcu', 'agg', 'agga', 'aggc', 'aggg', 'aggu', 'agu', 'agua', 'aguc', 'agug', 'aguu', 'au', 'aua', 'auaa', 'auac', 'auag', 'auau', 'auc', 'auca', 'aucc', 'aucg', 'aucu', 'aug', 'auga', 'augc', 'augg', 'augu', 'auu', 'auua', 'auuc', 'auug', 'auuu', 'ca', 'caa', 'caaa', 'caac', 'caag', 'caau', 'cac', 'caca', 'cacc', 'cacg', 'cacu', 'cag', 'caga', 'cagc', 'cagg', 'cagu', 'cau', 'caua', 'cauc', 'caug', 'cauu', 'cc', 'cca', 'ccaa', 'ccac', 'ccag', 'ccau', 'ccc', 'ccca', 'cccc', 'cccg', 'cccu', 'ccg', 'ccga', 'ccgc', 'ccgg', 'ccgu', 'ccu', 'ccua', 'ccuc', 'ccug', 'ccuu', 'cg', 'cga', 'cgaa', 'cgac', 'cgag', 'cgau', 'cgc', 'cgca', 'cgcc', 'cgcg', 'cgcu', 'cgg', 'cgga', 'cggc', 'cggg', 'cggu', 'cgu', 'cgua', 'cguc', 'cgug', 'cguu', 'cu', 'cua', 'cuaa', 'cuac', 'cuag', 'cuau', 'cuc', 'cuca', 'cucc', 'cucg', 'cucu', 'cug', 'cuga', 'cugc', 'cugg', 'cugu', 'cuu', 'cuua', 'cuuc', 'cuug', 'cuuu', 'ga', 'gaa', 'gaaa', 'gaac', 'gaag', 'gaau', 'gac', 'gaca', 'gacc', 'gacg', 'gacu', 'gag', 'gaga', 'gagc', 'gagg', 'gagu', 'gau', 'gaua', 'gauc', 'gaug', 'gauu', 'gc', 'gca', 'gcaa', 'gcac', 'gcag', 'gcau', 'gcc', 'gcca', 'gccc', 'gccg', 'gccu', 'gcg', 'gcga', 'gcgc', 'gcgg', 'gcgu', 'gcu', 'gcua', 'gcuc', 'gcug', 'gcuu', 'gg', 'gga', 'ggaa', 'ggac', 'ggag', 'ggau', 'ggc', 'ggca', 'ggcc', 'ggcg', 'ggcu', 'ggg', 'ggga', 'gggc', 'gggg', 'gggu', 'ggu', 'ggua', 'gguc', 'ggug', 'gguu', 'gu', 'gua', 'guaa', 'guac', 'guag', 'guau', 'guc', 'guca', 'gucc', 'gucg', 'gucu', 'gug', 'guga', 'gugc', 'gugg', 'gugu', 'guu', 'guua', 'guuc', 'guug', 'guuu', 'ua', 'uaa', 'uaaa', 'uaac', 'uaag', 'uaau', 'uac', 'uaca', 'uacc', 'uacg', 'uacu', 'uag', 'uaga', 'uagc', 'uagg', 'uagu', 'uau', 'uaua', 'uauc', 'uaug', 'uauu', 'uc', 'uca', 'ucaa', 'ucac', 'ucag', 'ucau', 'ucc', 'ucca', 'uccc', 'uccg', 'uccu', 'ucg', 'ucga', 'ucgc', 'ucgg', 'ucgu', 'ucu', 'ucua', 'ucuc', 'ucug', 'ucuu', 'ug', 'uga', 'ugaa', 'ugac', 'ugag', 'ugau', 'ugc', 'ugca', 'ugcc', 'ugcg', 'ugcu', 'ugg', 'ugga', 'uggc', 'uggg', 'uggu', 'ugu', 'ugua', 'uguc', 'ugug', 'uguu', 'uu', 'uua', 'uuaa', 'uuac', 'uuag', 'uuau', 'uuc', 'uuca', 'uucc', 'uucg', 'uucu', 'uug', 'uuga', 'uugc', 'uugg', 'uugu', 'uuu', 'uuua', 'uuuc', 'uuug', 'uuuu']\n",
      "[[ 2  0  0 ...  1  0  0]\n",
      " [ 2  0  0 ...  0  0  0]\n",
      " [17 10  6 ...  0  1  0]\n",
      " ...\n",
      " [10  5  3 ...  0  1  0]\n",
      " [ 1  0  0 ...  1  1  0]\n",
      " [ 9  4  1 ...  1  0  0]]\n",
      "['aa', 'aaa', 'aaaa', 'aaac', 'aaag', 'aaau', 'aac', 'aaca', 'aacc', 'aacg', 'aacu', 'aag', 'aaga', 'aagc', 'aagg', 'aagu', 'aau', 'aaua', 'aauc', 'aaug', 'aauu', 'ac', 'aca', 'acaa', 'acac', 'acag', 'acau', 'acc', 'acca', 'accc', 'accg', 'accu', 'acg', 'acga', 'acgc', 'acgg', 'acgu', 'acu', 'acua', 'acuc', 'acug', 'acuu', 'ag', 'aga', 'agaa', 'agac', 'agag', 'agau', 'agc', 'agca', 'agcc', 'agcg', 'agcu', 'agg', 'agga', 'aggc', 'aggg', 'aggu', 'agu', 'agua', 'aguc', 'agug', 'aguu', 'am', 'amc', 'amcu', 'as', 'ask', 'askc', 'au', 'aua', 'auaa', 'auac', 'auag', 'auas', 'auau', 'auc', 'auca', 'aucc', 'aucg', 'aucu', 'aug', 'auga', 'augc', 'augg', 'augu', 'auu', 'auua', 'auuc', 'auug', 'auuu', 'ca', 'caa', 'caaa', 'caac', 'caag', 'caau', 'cac', 'caca', 'cacc', 'cacg', 'cacu', 'cag', 'caga', 'cagc', 'cagg', 'cagu', 'cau', 'caua', 'cauc', 'caug', 'cauu', 'cc', 'cca', 'ccaa', 'ccac', 'ccag', 'ccau', 'ccc', 'ccca', 'cccc', 'cccg', 'cccu', 'ccg', 'ccga', 'ccgc', 'ccgg', 'ccgu', 'ccu', 'ccua', 'ccuc', 'ccug', 'ccuu', 'cg', 'cga', 'cgaa', 'cgac', 'cgag', 'cgau', 'cgc', 'cgca', 'cgcc', 'cgcg', 'cgcu', 'cgg', 'cgga', 'cggc', 'cggg', 'cggu', 'cgu', 'cgua', 'cguc', 'cgug', 'cguu', 'cu', 'cua', 'cuaa', 'cuac', 'cuag', 'cuau', 'cuc', 'cuca', 'cucc', 'cucg', 'cucu', 'cug', 'cuga', 'cugc', 'cugg', 'cugu', 'cuu', 'cuua', 'cuuc', 'cuug', 'cuuu', 'ga', 'gaa', 'gaaa', 'gaac', 'gaag', 'gaau', 'gac', 'gaca', 'gacc', 'gacg', 'gacu', 'gag', 'gaga', 'gagc', 'gagg', 'gagu', 'gam', 'gamc', 'gau', 'gaua', 'gauc', 'gaug', 'gauu', 'gc', 'gca', 'gcaa', 'gcac', 'gcag', 'gcau', 'gcc', 'gcca', 'gccc', 'gccg', 'gccu', 'gcg', 'gcga', 'gcgc', 'gcgg', 'gcgu', 'gcu', 'gcua', 'gcuc', 'gcug', 'gcuu', 'gg', 'gga', 'ggaa', 'ggac', 'ggag', 'ggau', 'ggc', 'ggca', 'ggcc', 'ggcg', 'ggcu', 'ggg', 'ggga', 'gggc', 'gggg', 'gggu', 'ggu', 'ggua', 'gguc', 'ggug', 'gguu', 'gu', 'gua', 'guaa', 'guac', 'guag', 'guau', 'guc', 'guca', 'gucc', 'gucg', 'gucu', 'gug', 'guga', 'gugc', 'gugg', 'gugu', 'guu', 'guua', 'guuc', 'guug', 'guuu', 'kc', 'kcc', 'kccu', 'mc', 'mcu', 'mcuu', 'sk', 'skc', 'skcc', 'ua', 'uaa', 'uaaa', 'uaac', 'uaag', 'uaau', 'uac', 'uaca', 'uacc', 'uacg', 'uacu', 'uag', 'uaga', 'uagc', 'uagg', 'uagu', 'uas', 'uask', 'uau', 'uaua', 'uauc', 'uaug', 'uauu', 'uc', 'uca', 'ucaa', 'ucac', 'ucag', 'ucau', 'ucc', 'ucca', 'uccc', 'uccg', 'uccu', 'ucg', 'ucga', 'ucgc', 'ucgg', 'ucgu', 'ucu', 'ucua', 'ucuc', 'ucug', 'ucuu', 'ug', 'uga', 'ugaa', 'ugac', 'ugag', 'ugam', 'ugau', 'ugc', 'ugca', 'ugcc', 'ugcg', 'ugcu', 'ugg', 'ugga', 'uggc', 'uggg', 'uggu', 'ugu', 'ugua', 'uguc', 'ugug', 'uguu', 'uu', 'uua', 'uuaa', 'uuac', 'uuag', 'uuau', 'uuc', 'uuca', 'uucc', 'uucg', 'uucu', 'uug', 'uuga', 'uugc', 'uugg', 'uugu', 'uuu', 'uuua', 'uuuc', 'uuug', 'uuuu']\n",
      "[[15  3  1 ...  1  1  0]\n",
      " [15  5  1 ...  1  1  0]\n",
      " [23  7  1 ...  0  0  0]\n",
      " ...\n",
      " [23  9  4 ...  0  1  1]\n",
      " [12  4  1 ...  0  1  0]\n",
      " [ 9  1  0 ...  1  0  0]]\n",
      "['aa', 'aaa', 'aaaa', 'aaac', 'aaag', 'aaau', 'aac', 'aaca', 'aacc', 'aacg', 'aacu', 'aag', 'aaga', 'aagc', 'aagg', 'aagu', 'aau', 'aaua', 'aauc', 'aaug', 'aauu', 'ac', 'aca', 'acaa', 'acac', 'acag', 'acau', 'acc', 'acca', 'accc', 'accg', 'accu', 'acg', 'acga', 'acgc', 'acgg', 'acgu', 'acu', 'acua', 'acuc', 'acug', 'acuu', 'ag', 'aga', 'agaa', 'agac', 'agag', 'agau', 'agc', 'agca', 'agcc', 'agcg', 'agcn', 'agcu', 'agg', 'agga', 'aggc', 'aggg', 'aggu', 'agu', 'agua', 'aguc', 'agug', 'agun', 'aguu', 'au', 'aua', 'auaa', 'auac', 'auag', 'auau', 'auc', 'auca', 'aucc', 'aucg', 'aucu', 'aug', 'auga', 'augc', 'augg', 'augu', 'auu', 'auua', 'auuc', 'auug', 'auuu', 'ca', 'caa', 'caaa', 'caac', 'caag', 'caau', 'cac', 'caca', 'cacc', 'cacg', 'cacu', 'cag', 'caga', 'cagc', 'cagg', 'cagu', 'cau', 'caua', 'cauc', 'caug', 'cauu', 'cc', 'cca', 'ccaa', 'ccac', 'ccag', 'ccau', 'ccc', 'ccca', 'cccc', 'cccg', 'cccu', 'ccg', 'ccga', 'ccgc', 'ccgg', 'ccgu', 'ccu', 'ccua', 'ccuc', 'ccug', 'ccuu', 'cg', 'cga', 'cgaa', 'cgac', 'cgag', 'cgau', 'cgc', 'cgca', 'cgcc', 'cgcg', 'cgcu', 'cgg', 'cgga', 'cggc', 'cggg', 'cggu', 'cgu', 'cgua', 'cguc', 'cgug', 'cguu', 'cn', 'cng', 'cnga', 'cu', 'cua', 'cuaa', 'cuac', 'cuag', 'cuau', 'cuc', 'cuca', 'cucc', 'cucg', 'cucu', 'cug', 'cuga', 'cugc', 'cugg', 'cugn', 'cugu', 'cuu', 'cuua', 'cuuc', 'cuug', 'cuuu', 'ga', 'gaa', 'gaaa', 'gaac', 'gaag', 'gaau', 'gac', 'gaca', 'gacc', 'gacg', 'gacu', 'gag', 'gaga', 'gagc', 'gagg', 'gagu', 'gau', 'gaua', 'gauc', 'gaug', 'gauu', 'gc', 'gca', 'gcaa', 'gcac', 'gcag', 'gcau', 'gcc', 'gcca', 'gccc', 'gccg', 'gccu', 'gcg', 'gcga', 'gcgc', 'gcgg', 'gcgu', 'gcn', 'gcng', 'gcu', 'gcua', 'gcuc', 'gcug', 'gcuu', 'gg', 'gga', 'ggaa', 'ggac', 'ggag', 'ggau', 'ggc', 'ggca', 'ggcc', 'ggcg', 'ggcu', 'ggg', 'ggga', 'gggc', 'gggg', 'gggu', 'ggu', 'ggua', 'gguc', 'ggug', 'gguu', 'gn', 'gnu', 'gnua', 'gu', 'gua', 'guaa', 'guac', 'guag', 'guau', 'guc', 'guca', 'gucc', 'gucg', 'gucu', 'gug', 'guga', 'gugc', 'gugg', 'gugu', 'gun', 'guna', 'guu', 'guua', 'guuc', 'guug', 'guuu', 'na', 'nag', 'nagg', 'ng', 'nga', 'ngac', 'nu', 'nua', 'nuaa', 'ua', 'uaa', 'uaaa', 'uaac', 'uaag', 'uaau', 'uac', 'uaca', 'uacc', 'uacg', 'uacu', 'uag', 'uaga', 'uagc', 'uagg', 'uagu', 'uau', 'uaua', 'uauc', 'uaug', 'uauu', 'uc', 'uca', 'ucaa', 'ucac', 'ucag', 'ucau', 'ucc', 'ucca', 'uccc', 'uccg', 'uccu', 'ucg', 'ucga', 'ucgc', 'ucgg', 'ucgu', 'ucu', 'ucua', 'ucuc', 'ucug', 'ucuu', 'ug', 'uga', 'ugaa', 'ugac', 'ugag', 'ugau', 'ugc', 'ugca', 'ugcc', 'ugcg', 'ugcu', 'ugg', 'ugga', 'uggc', 'uggg', 'uggu', 'ugn', 'ugnu', 'ugu', 'ugua', 'uguc', 'ugug', 'uguu', 'un', 'una', 'unag', 'uu', 'uua', 'uuaa', 'uuac', 'uuag', 'uuau', 'uuc', 'uuca', 'uucc', 'uucg', 'uucu', 'uug', 'uuga', 'uugc', 'uugg', 'uugu', 'uuu', 'uuua', 'uuuc', 'uuug', 'uuuu']\n",
      "[[ 8  2  0 ...  1  0  0]\n",
      " [26 12  5 ...  0  2  3]\n",
      " [13  4  1 ...  0  0  0]\n",
      " ...\n",
      " [10  1  0 ...  1  0  0]\n",
      " [16  3  0 ...  0  0  2]\n",
      " [13  2  1 ...  0  1  0]]\n",
      "['aa', 'aaa', 'aaaa', 'aaac', 'aaag', 'aaau', 'aac', 'aaca', 'aacc', 'aacg', 'aacu', 'aag', 'aaga', 'aagc', 'aagg', 'aagu', 'aau', 'aaua', 'aauc', 'aaug', 'aauu', 'ac', 'aca', 'acaa', 'acac', 'acag', 'acau', 'acc', 'acca', 'accc', 'accg', 'accu', 'acg', 'acga', 'acgc', 'acgg', 'acgu', 'acu', 'acua', 'acuc', 'acug', 'acuu', 'ag', 'aga', 'agaa', 'agac', 'agag', 'agau', 'agc', 'agca', 'agcc', 'agcg', 'agcu', 'agg', 'agga', 'aggc', 'aggg', 'aggu', 'agu', 'agua', 'aguc', 'agug', 'aguu', 'au', 'aua', 'auaa', 'auac', 'auag', 'auau', 'auc', 'auca', 'aucc', 'aucg', 'aucu', 'aug', 'auga', 'augc', 'augg', 'augu', 'auu', 'auua', 'auuc', 'auug', 'auuu', 'ca', 'caa', 'caaa', 'caac', 'caag', 'caau', 'cac', 'caca', 'cacc', 'cacg', 'cacu', 'cag', 'caga', 'cagc', 'cagg', 'cagu', 'cau', 'caua', 'cauc', 'caug', 'cauu', 'cc', 'cca', 'ccaa', 'ccac', 'ccag', 'ccau', 'ccc', 'ccca', 'cccc', 'cccg', 'cccu', 'ccg', 'ccga', 'ccgc', 'ccgg', 'ccgu', 'ccu', 'ccua', 'ccuc', 'ccug', 'ccuu', 'cg', 'cga', 'cgaa', 'cgac', 'cgag', 'cgau', 'cgc', 'cgca', 'cgcc', 'cgcg', 'cgcu', 'cgg', 'cgga', 'cggc', 'cggg', 'cggu', 'cgn', 'cgnc', 'cgu', 'cgua', 'cguc', 'cgug', 'cguu', 'cu', 'cua', 'cuaa', 'cuac', 'cuag', 'cuau', 'cuc', 'cuca', 'cucc', 'cucg', 'cucu', 'cug', 'cuga', 'cugc', 'cugg', 'cugu', 'cuu', 'cuua', 'cuuc', 'cuug', 'cuuu', 'ga', 'gaa', 'gaaa', 'gaac', 'gaag', 'gaau', 'gac', 'gaca', 'gacc', 'gacg', 'gacu', 'gag', 'gaga', 'gagc', 'gagg', 'gagu', 'gau', 'gaua', 'gauc', 'gaug', 'gauu', 'gc', 'gca', 'gcaa', 'gcac', 'gcag', 'gcau', 'gcc', 'gcca', 'gccc', 'gccg', 'gccu', 'gcg', 'gcga', 'gcgc', 'gcgg', 'gcgu', 'gcu', 'gcua', 'gcuc', 'gcug', 'gcuu', 'gg', 'gga', 'ggaa', 'ggac', 'ggag', 'ggau', 'ggc', 'ggca', 'ggcc', 'ggcg', 'ggcu', 'ggg', 'ggga', 'gggc', 'gggg', 'gggu', 'ggu', 'ggua', 'gguc', 'ggug', 'gguu', 'gn', 'gnc', 'gncc', 'gu', 'gua', 'guaa', 'guac', 'guag', 'guau', 'guc', 'guca', 'gucc', 'gucg', 'gucu', 'gug', 'guga', 'gugc', 'gugg', 'gugu', 'guu', 'guua', 'guuc', 'guug', 'guuu', 'na', 'naa', 'naag', 'nc', 'ncc', 'ncca', 'nccu', 'ng', 'ngg', 'ngga', 'ua', 'uaa', 'uaaa', 'uaac', 'uaag', 'uaau', 'uac', 'uaca', 'uacc', 'uacg', 'uacu', 'uag', 'uaga', 'uagc', 'uagg', 'uagu', 'uau', 'uaua', 'uauc', 'uaug', 'uauu', 'uc', 'uca', 'ucaa', 'ucac', 'ucag', 'ucau', 'ucc', 'ucca', 'uccc', 'uccg', 'uccu', 'ucg', 'ucga', 'ucgc', 'ucgg', 'ucgn', 'ucgu', 'ucu', 'ucua', 'ucuc', 'ucug', 'ucuu', 'ug', 'uga', 'ugaa', 'ugac', 'ugag', 'ugau', 'ugc', 'ugca', 'ugcc', 'ugcg', 'ugcu', 'ugg', 'ugga', 'uggc', 'uggg', 'uggu', 'ugu', 'ugua', 'uguc', 'ugug', 'uguu', 'uu', 'uua', 'uuaa', 'uuac', 'uuag', 'uuau', 'uuc', 'uuca', 'uucc', 'uucg', 'uucu', 'uug', 'uuga', 'uugc', 'uugg', 'uugu', 'uuu', 'uuua', 'uuuc', 'uuug', 'uuuu']\n",
      "[[22  7  2 ...  5  2  1]\n",
      " [31  6  0 ...  0  1  1]\n",
      " [29  6  0 ...  1  0  0]\n",
      " ...\n",
      " [25  8  1 ...  1  0  0]\n",
      " [34 13  4 ...  0  1  2]\n",
      " [23  6  0 ...  0  0  0]]\n",
      "['aa', 'aaa', 'aaaa', 'aaac', 'aaag', 'aaau', 'aac', 'aaca', 'aacc', 'aacg', 'aacu', 'aag', 'aaga', 'aagc', 'aagg', 'aagu', 'aau', 'aaua', 'aauc', 'aaug', 'aauu', 'ac', 'aca', 'acaa', 'acac', 'acag', 'acau', 'acc', 'acca', 'accc', 'accg', 'accu', 'acg', 'acga', 'acgc', 'acgg', 'acgu', 'acu', 'acua', 'acuc', 'acug', 'acuu', 'ag', 'aga', 'agaa', 'agac', 'agag', 'agau', 'agc', 'agca', 'agcc', 'agcg', 'agcu', 'agg', 'agga', 'aggc', 'aggg', 'aggu', 'agu', 'agua', 'aguc', 'agug', 'aguu', 'au', 'aua', 'auaa', 'auac', 'auag', 'auau', 'auc', 'auca', 'aucc', 'aucg', 'aucu', 'aug', 'auga', 'augc', 'augg', 'augu', 'auu', 'auua', 'auuc', 'auug', 'auuu', 'ca', 'caa', 'caaa', 'caac', 'caag', 'caau', 'cac', 'caca', 'cacc', 'cacg', 'cacu', 'cag', 'caga', 'cagc', 'cagg', 'cagu', 'cau', 'caua', 'cauc', 'caug', 'cauu', 'cc', 'cca', 'ccaa', 'ccac', 'ccag', 'ccau', 'ccc', 'ccca', 'cccc', 'cccg', 'cccu', 'ccg', 'ccga', 'ccgc', 'ccgg', 'ccgu', 'ccu', 'ccua', 'ccuc', 'ccug', 'ccuu', 'cg', 'cga', 'cgaa', 'cgac', 'cgag', 'cgau', 'cgc', 'cgca', 'cgcc', 'cgcg', 'cgcu', 'cgg', 'cgga', 'cggc', 'cggg', 'cggu', 'cgu', 'cgua', 'cguc', 'cgug', 'cguu', 'cu', 'cua', 'cuaa', 'cuac', 'cuag', 'cuau', 'cuc', 'cuca', 'cucc', 'cucg', 'cucu', 'cug', 'cuga', 'cugc', 'cugg', 'cugu', 'cuu', 'cuua', 'cuuc', 'cuug', 'cuuu', 'ga', 'gaa', 'gaaa', 'gaac', 'gaag', 'gaau', 'gac', 'gaca', 'gacc', 'gacg', 'gacu', 'gag', 'gaga', 'gagc', 'gagg', 'gagu', 'gau', 'gaua', 'gauc', 'gaug', 'gauu', 'gc', 'gca', 'gcaa', 'gcac', 'gcag', 'gcau', 'gcc', 'gcca', 'gccc', 'gccg', 'gccu', 'gcg', 'gcga', 'gcgc', 'gcgg', 'gcgu', 'gcu', 'gcua', 'gcuc', 'gcug', 'gcuu', 'gg', 'gga', 'ggaa', 'ggac', 'ggag', 'ggau', 'ggc', 'ggca', 'ggcc', 'ggcg', 'ggcu', 'ggg', 'ggga', 'gggc', 'gggg', 'gggu', 'ggu', 'ggua', 'gguc', 'ggug', 'gguu', 'gu', 'gua', 'guaa', 'guac', 'guag', 'guau', 'guc', 'guca', 'gucc', 'gucg', 'gucu', 'gug', 'guga', 'gugc', 'gugg', 'gugu', 'guu', 'guua', 'guuc', 'guug', 'guuu', 'ua', 'uaa', 'uaaa', 'uaac', 'uaag', 'uaau', 'uac', 'uaca', 'uacc', 'uacg', 'uacu', 'uag', 'uaga', 'uagc', 'uagg', 'uagu', 'uau', 'uaua', 'uauc', 'uaug', 'uauu', 'uc', 'uca', 'ucaa', 'ucac', 'ucag', 'ucau', 'ucc', 'ucca', 'uccc', 'uccg', 'uccu', 'ucg', 'ucga', 'ucgc', 'ucgg', 'ucgu', 'ucu', 'ucua', 'ucuc', 'ucug', 'ucuu', 'ug', 'uga', 'ugaa', 'ugac', 'ugag', 'ugau', 'ugc', 'ugca', 'ugcc', 'ugcg', 'ugcu', 'ugg', 'ugga', 'uggc', 'uggg', 'uggu', 'ugu', 'ugua', 'uguc', 'ugug', 'uguu', 'uu', 'uua', 'uuaa', 'uuac', 'uuag', 'uuau', 'uuc', 'uuca', 'uucc', 'uucg', 'uucu', 'uug', 'uuga', 'uugc', 'uugg', 'uugu', 'uuu', 'uuua', 'uuuc', 'uuug', 'uuuu']\n",
      "[[31  9  3 ...  5  0  2]\n",
      " [31  9  3 ...  4  2  0]\n",
      " [23  5  0 ...  1  1  1]\n",
      " ...\n",
      " [33 11  3 ...  3  4  1]\n",
      " [33 10  3 ...  3  1  1]\n",
      " [36 13  4 ...  3  1  4]]\n",
      "['aa', 'aaa', 'aaaa', 'aaac', 'aaag', 'aaau', 'aac', 'aaca', 'aacc', 'aacg', 'aacu', 'aag', 'aaga', 'aagc', 'aagg', 'aagu', 'aau', 'aaua', 'aauc', 'aaug', 'aauu', 'ac', 'aca', 'acaa', 'acac', 'acag', 'acau', 'acc', 'acca', 'accc', 'accg', 'accu', 'acg', 'acga', 'acgc', 'acgg', 'acgu', 'acu', 'acua', 'acuc', 'acug', 'acuu', 'ag', 'aga', 'agaa', 'agac', 'agag', 'agau', 'agc', 'agca', 'agcc', 'agcg', 'agcu', 'agg', 'agga', 'aggc', 'aggg', 'aggu', 'agu', 'agua', 'aguc', 'agug', 'aguu', 'au', 'aua', 'auaa', 'auac', 'auag', 'auau', 'auc', 'auca', 'aucc', 'aucg', 'aucu', 'aug', 'auga', 'augc', 'augg', 'augu', 'auu', 'auua', 'auuc', 'auug', 'auuu', 'ca', 'caa', 'caaa', 'caac', 'caag', 'caau', 'cac', 'caca', 'cacc', 'cacg', 'cacu', 'cag', 'caga', 'cagc', 'cagg', 'cagu', 'cau', 'caua', 'cauc', 'caug', 'cauu', 'cc', 'cca', 'ccaa', 'ccac', 'ccag', 'ccau', 'ccc', 'ccca', 'cccc', 'cccg', 'cccu', 'ccg', 'ccga', 'ccgc', 'ccgg', 'ccgu', 'ccu', 'ccua', 'ccuc', 'ccug', 'ccuu', 'cg', 'cga', 'cgaa', 'cgac', 'cgag', 'cgau', 'cgc', 'cgca', 'cgcc', 'cgcg', 'cgcu', 'cgg', 'cgga', 'cggc', 'cggg', 'cggu', 'cgu', 'cgua', 'cguc', 'cgug', 'cguu', 'cu', 'cua', 'cuaa', 'cuac', 'cuag', 'cuau', 'cuc', 'cuca', 'cucc', 'cucg', 'cucu', 'cug', 'cuga', 'cugc', 'cugg', 'cugu', 'cuu', 'cuua', 'cuuc', 'cuug', 'cuuu', 'ga', 'gaa', 'gaaa', 'gaac', 'gaag', 'gaau', 'gac', 'gaca', 'gacc', 'gacg', 'gacu', 'gag', 'gaga', 'gagc', 'gagg', 'gagu', 'gau', 'gaua', 'gauc', 'gaug', 'gauu', 'gc', 'gca', 'gcaa', 'gcac', 'gcag', 'gcau', 'gcc', 'gcca', 'gccc', 'gccg', 'gccu', 'gcg', 'gcga', 'gcgc', 'gcgg', 'gcgu', 'gcu', 'gcua', 'gcuc', 'gcug', 'gcuu', 'gg', 'gga', 'ggaa', 'ggac', 'ggag', 'ggau', 'ggc', 'ggca', 'ggcc', 'ggcg', 'ggcu', 'ggg', 'ggga', 'gggc', 'gggg', 'gggu', 'ggu', 'ggua', 'gguc', 'ggug', 'gguu', 'gu', 'gua', 'guaa', 'guac', 'guag', 'guau', 'guc', 'guca', 'gucc', 'gucg', 'gucu', 'gug', 'guga', 'gugc', 'gugg', 'gugu', 'guu', 'guua', 'guuc', 'guug', 'guuu', 'ua', 'uaa', 'uaaa', 'uaac', 'uaag', 'uaau', 'uac', 'uaca', 'uacc', 'uacg', 'uacu', 'uag', 'uaga', 'uagc', 'uagg', 'uagu', 'uau', 'uaua', 'uauc', 'uaug', 'uauu', 'uc', 'uca', 'ucaa', 'ucac', 'ucag', 'ucau', 'ucc', 'ucca', 'uccc', 'uccg', 'uccu', 'ucg', 'ucga', 'ucgc', 'ucgg', 'ucgu', 'ucu', 'ucua', 'ucuc', 'ucug', 'ucuu', 'ug', 'uga', 'ugaa', 'ugac', 'ugag', 'ugau', 'ugc', 'ugca', 'ugcc', 'ugcg', 'ugcu', 'ugg', 'ugga', 'uggc', 'uggg', 'uggu', 'ugu', 'ugua', 'uguc', 'ugug', 'uguu', 'uu', 'uua', 'uuaa', 'uuac', 'uuag', 'uuau', 'uuc', 'uuca', 'uucc', 'uucg', 'uucu', 'uug', 'uuga', 'uugc', 'uugg', 'uugu', 'uuu', 'uuua', 'uuuc', 'uuug', 'uuuu']\n",
      "[[22  5  1 ...  3  3  1]\n",
      " [23  6  1 ...  4  4  6]\n",
      " [21  4  0 ...  2  4  2]\n",
      " ...\n",
      " [59 23  7 ...  2  4  5]\n",
      " [28  4  0 ...  4  5  5]\n",
      " [59 23  7 ...  1  4  5]]\n"
     ]
    },
    {
     "ename": "ValueError",
     "evalue": "empty vocabulary; perhaps the documents only contain stop words",
     "output_type": "error",
     "traceback": [
      "\u001b[1;31m---------------------------------------------------------------------------\u001b[0m",
      "\u001b[1;31mValueError\u001b[0m                                Traceback (most recent call last)",
      "Input \u001b[1;32mIn [11]\u001b[0m, in \u001b[0;36m<cell line: 4>\u001b[1;34m()\u001b[0m\n\u001b[0;32m      9\u001b[0m \u001b[38;5;66;03m# Générer une représentation vectorielle des séquences basée sur les 2-mer, 3-mer et 4-mer\u001b[39;00m\n\u001b[0;32m     10\u001b[0m vectorizer \u001b[38;5;241m=\u001b[39m CountVectorizer(analyzer\u001b[38;5;241m=\u001b[39m\u001b[38;5;124m'\u001b[39m\u001b[38;5;124mchar\u001b[39m\u001b[38;5;124m'\u001b[39m, ngram_range\u001b[38;5;241m=\u001b[39m(\u001b[38;5;241m2\u001b[39m,\u001b[38;5;241m4\u001b[39m))\n\u001b[1;32m---> 11\u001b[0m X \u001b[38;5;241m=\u001b[39m \u001b[43mvectorizer\u001b[49m\u001b[38;5;241;43m.\u001b[39;49m\u001b[43mfit_transform\u001b[49m\u001b[43m(\u001b[49m\u001b[43msequences\u001b[49m\u001b[43m)\u001b[49m\n\u001b[0;32m     13\u001b[0m \u001b[38;5;66;03m# Afficher les noms des k-mers (facultatif)\u001b[39;00m\n\u001b[0;32m     14\u001b[0m \u001b[38;5;28mprint\u001b[39m(vectorizer\u001b[38;5;241m.\u001b[39mget_feature_names())\n",
      "File \u001b[1;32m~\\anaconda3\\lib\\site-packages\\sklearn\\feature_extraction\\text.py:1330\u001b[0m, in \u001b[0;36mCountVectorizer.fit_transform\u001b[1;34m(self, raw_documents, y)\u001b[0m\n\u001b[0;32m   1322\u001b[0m             warnings\u001b[38;5;241m.\u001b[39mwarn(\n\u001b[0;32m   1323\u001b[0m                 \u001b[38;5;124m\"\u001b[39m\u001b[38;5;124mUpper case characters found in\u001b[39m\u001b[38;5;124m\"\u001b[39m\n\u001b[0;32m   1324\u001b[0m                 \u001b[38;5;124m\"\u001b[39m\u001b[38;5;124m vocabulary while \u001b[39m\u001b[38;5;124m'\u001b[39m\u001b[38;5;124mlowercase\u001b[39m\u001b[38;5;124m'\u001b[39m\u001b[38;5;124m\"\u001b[39m\n\u001b[0;32m   1325\u001b[0m                 \u001b[38;5;124m\"\u001b[39m\u001b[38;5;124m is True. These entries will not\u001b[39m\u001b[38;5;124m\"\u001b[39m\n\u001b[0;32m   1326\u001b[0m                 \u001b[38;5;124m\"\u001b[39m\u001b[38;5;124m be matched with any documents\u001b[39m\u001b[38;5;124m\"\u001b[39m\n\u001b[0;32m   1327\u001b[0m             )\n\u001b[0;32m   1328\u001b[0m             \u001b[38;5;28;01mbreak\u001b[39;00m\n\u001b[1;32m-> 1330\u001b[0m vocabulary, X \u001b[38;5;241m=\u001b[39m \u001b[38;5;28;43mself\u001b[39;49m\u001b[38;5;241;43m.\u001b[39;49m\u001b[43m_count_vocab\u001b[49m\u001b[43m(\u001b[49m\u001b[43mraw_documents\u001b[49m\u001b[43m,\u001b[49m\u001b[43m \u001b[49m\u001b[38;5;28;43mself\u001b[39;49m\u001b[38;5;241;43m.\u001b[39;49m\u001b[43mfixed_vocabulary_\u001b[49m\u001b[43m)\u001b[49m\n\u001b[0;32m   1332\u001b[0m \u001b[38;5;28;01mif\u001b[39;00m \u001b[38;5;28mself\u001b[39m\u001b[38;5;241m.\u001b[39mbinary:\n\u001b[0;32m   1333\u001b[0m     X\u001b[38;5;241m.\u001b[39mdata\u001b[38;5;241m.\u001b[39mfill(\u001b[38;5;241m1\u001b[39m)\n",
      "File \u001b[1;32m~\\anaconda3\\lib\\site-packages\\sklearn\\feature_extraction\\text.py:1220\u001b[0m, in \u001b[0;36mCountVectorizer._count_vocab\u001b[1;34m(self, raw_documents, fixed_vocab)\u001b[0m\n\u001b[0;32m   1218\u001b[0m     vocabulary \u001b[38;5;241m=\u001b[39m \u001b[38;5;28mdict\u001b[39m(vocabulary)\n\u001b[0;32m   1219\u001b[0m     \u001b[38;5;28;01mif\u001b[39;00m \u001b[38;5;129;01mnot\u001b[39;00m vocabulary:\n\u001b[1;32m-> 1220\u001b[0m         \u001b[38;5;28;01mraise\u001b[39;00m \u001b[38;5;167;01mValueError\u001b[39;00m(\n\u001b[0;32m   1221\u001b[0m             \u001b[38;5;124m\"\u001b[39m\u001b[38;5;124mempty vocabulary; perhaps the documents only contain stop words\u001b[39m\u001b[38;5;124m\"\u001b[39m\n\u001b[0;32m   1222\u001b[0m         )\n\u001b[0;32m   1224\u001b[0m \u001b[38;5;28;01mif\u001b[39;00m indptr[\u001b[38;5;241m-\u001b[39m\u001b[38;5;241m1\u001b[39m] \u001b[38;5;241m>\u001b[39m np\u001b[38;5;241m.\u001b[39miinfo(np\u001b[38;5;241m.\u001b[39mint32)\u001b[38;5;241m.\u001b[39mmax:  \u001b[38;5;66;03m# = 2**31 - 1\u001b[39;00m\n\u001b[0;32m   1225\u001b[0m     \u001b[38;5;28;01mif\u001b[39;00m _IS_32BIT:\n",
      "\u001b[1;31mValueError\u001b[0m: empty vocabulary; perhaps the documents only contain stop words"
     ]
    }
   ],
   "source": [
    "from sklearn.feature_extraction.text import CountVectorizer\n",
    "\n",
    "# On parcourt chaque groupe de longueur\n",
    "for i in range(len(bins)-1):\n",
    "    # On sélectionne les séquences dans ce groupe de longueur\n",
    "    group_df = df[(df['length'] > bins[i]) & (df['length'] <= bins[i+1])]\n",
    "    sequences = group_df['sequence'].tolist()\n",
    "\n",
    "    # On génère une représentation vectorielle des séquences basée sur les 2-mer, 3-mer et 4-mer\n",
    "    vectorizer = CountVectorizer(analyzer='char', ngram_range=(2,4))\n",
    "    X = vectorizer.fit_transform(sequences)\n",
    "\n",
    "    # On affiche les noms des k-mers (facultatif)\n",
    "    print(vectorizer.get_feature_names())\n",
    "\n",
    "    # On affiche la matrice de fréquence des k-mers\n",
    "    print(X.toarray())"
   ]
  },
  {
   "cell_type": "raw",
   "id": "791dff27",
   "metadata": {},
   "source": [
    "2 b)"
   ]
  },
  {
   "cell_type": "code",
   "execution_count": 12,
   "id": "0245c4c1",
   "metadata": {},
   "outputs": [
    {
     "name": "stdout",
     "output_type": "stream",
     "text": [
      "['aa', 'aaa', 'aaaa', 'aaau', 'aac', 'aacc', 'aag', 'aagc', 'aau', 'aaug', 'aauu', 'ac', 'aca', 'acau', 'acc', 'acg', 'acgg', 'acu', 'ag', 'aga', 'agc', 'agca', 'agcg', 'agg', 'agu', 'agua', 'aguu', 'au', 'aua', 'auc', 'aug', 'augc', 'augu', 'auu', 'auug', 'ca', 'caa', 'caaa', 'cac', 'cag', 'cagu', 'cau', 'caug', 'cc', 'cca', 'ccc', 'ccg', 'ccu', 'ccuc', 'cg', 'cga', 'cgc', 'cgg', 'cggc', 'cggg', 'cgu', 'cu', 'cua', 'cuaa', 'cuc', 'cucu', 'cug', 'cuu', 'ga', 'gaa', 'gac', 'gag', 'gagu', 'gau', 'gauu', 'gc', 'gca', 'gcaa', 'gcc', 'gccg', 'gcg', 'gcgg', 'gcu', 'gg', 'gga', 'ggaa', 'ggc', 'ggcg', 'ggg', 'ggu', 'gu', 'gua', 'guau', 'guc', 'gug', 'guu', 'guuc', 'ua', 'uaa', 'uaaa', 'uac', 'uag', 'uau', 'uc', 'uca', 'ucag', 'ucc', 'ucg', 'ucgg', 'ucu', 'ug', 'uga', 'ugag', 'ugc', 'ugca', 'ugcu', 'ugg', 'ugga', 'ugu', 'uu', 'uua', 'uuc', 'uuca', 'uug', 'uuga', 'uugc', 'uuu']\n",
      "[[ 2  0  0 ...  1  0  1]\n",
      " [ 2  0  0 ...  0  0  0]\n",
      " [17 10  6 ...  1  1  1]\n",
      " ...\n",
      " [10  5  3 ...  1  2  2]\n",
      " [ 1  0  0 ...  1  0  2]\n",
      " [ 9  4  1 ...  0  0  1]]\n",
      "['aa', 'aaa', 'aaaa', 'aaac', 'aaag', 'aaau', 'aac', 'aaca', 'aacc', 'aacg', 'aacu', 'aag', 'aaga', 'aagc', 'aagg', 'aagu', 'aau', 'aaua', 'aauc', 'aaug', 'aauu', 'ac', 'aca', 'acaa', 'acac', 'acag', 'acau', 'acc', 'acca', 'accc', 'accg', 'accu', 'acg', 'acga', 'acgc', 'acgg', 'acgu', 'acu', 'acua', 'acuc', 'acug', 'acuu', 'ag', 'aga', 'agaa', 'agac', 'agag', 'agau', 'agc', 'agca', 'agcc', 'agcg', 'agcu', 'agg', 'agga', 'aggc', 'aggg', 'aggu', 'agu', 'agua', 'aguc', 'agug', 'aguu', 'au', 'aua', 'auaa', 'auac', 'auag', 'auau', 'auc', 'auca', 'aucc', 'aucu', 'aug', 'auga', 'augc', 'augg', 'augu', 'auu', 'auua', 'auuc', 'auug', 'auuu', 'ca', 'caa', 'caaa', 'caac', 'caag', 'caau', 'cac', 'caca', 'cacc', 'cacg', 'cacu', 'cag', 'caga', 'cagc', 'cagg', 'cagu', 'cau', 'caua', 'cauc', 'caug', 'cauu', 'cc', 'cca', 'ccaa', 'ccac', 'ccag', 'ccau', 'ccc', 'ccca', 'cccc', 'cccg', 'cccu', 'ccg', 'ccga', 'ccgc', 'ccgg', 'ccgu', 'ccu', 'ccua', 'ccuc', 'ccug', 'ccuu', 'cg', 'cga', 'cgaa', 'cgag', 'cgau', 'cgc', 'cgca', 'cgcc', 'cgcu', 'cgg', 'cgga', 'cggc', 'cggg', 'cggu', 'cgu', 'cgua', 'cguc', 'cgug', 'cguu', 'cu', 'cua', 'cuaa', 'cuac', 'cuau', 'cuc', 'cuca', 'cucc', 'cucg', 'cucu', 'cug', 'cuga', 'cugc', 'cugg', 'cugu', 'cuu', 'cuua', 'cuuc', 'cuug', 'cuuu', 'ga', 'gaa', 'gaaa', 'gaac', 'gaag', 'gaau', 'gac', 'gaca', 'gacg', 'gacu', 'gag', 'gaga', 'gagc', 'gagg', 'gagu', 'gau', 'gaua', 'gauc', 'gaug', 'gauu', 'gc', 'gca', 'gcaa', 'gcac', 'gcag', 'gcau', 'gcc', 'gcca', 'gccc', 'gccg', 'gccu', 'gcg', 'gcga', 'gcgg', 'gcgu', 'gcu', 'gcua', 'gcuc', 'gcug', 'gcuu', 'gg', 'gga', 'ggaa', 'ggac', 'ggag', 'ggau', 'ggc', 'ggca', 'ggcc', 'ggcg', 'ggcu', 'ggg', 'ggga', 'gggc', 'gggg', 'gggu', 'ggu', 'ggua', 'gguc', 'ggug', 'gguu', 'gu', 'gua', 'guaa', 'guac', 'guag', 'guau', 'guc', 'guca', 'gucc', 'gucg', 'gucu', 'gug', 'guga', 'gugc', 'gugg', 'gugu', 'guu', 'guua', 'guuc', 'guug', 'guuu', 'ua', 'uaa', 'uaaa', 'uaac', 'uaag', 'uaau', 'uac', 'uaca', 'uacc', 'uacu', 'uag', 'uaga', 'uagc', 'uagg', 'uagu', 'uau', 'uaua', 'uauc', 'uaug', 'uauu', 'uc', 'uca', 'ucaa', 'ucag', 'ucau', 'ucc', 'ucca', 'uccc', 'uccg', 'uccu', 'ucg', 'ucga', 'ucgg', 'ucgu', 'ucu', 'ucua', 'ucuc', 'ucug', 'ucuu', 'ug', 'uga', 'ugaa', 'ugac', 'ugag', 'ugau', 'ugc', 'ugca', 'ugcc', 'ugcg', 'ugcu', 'ugg', 'ugga', 'uggc', 'uggg', 'uggu', 'ugu', 'ugua', 'uguc', 'ugug', 'uguu', 'uu', 'uua', 'uuaa', 'uuac', 'uuag', 'uuau', 'uuc', 'uuca', 'uucc', 'uucg', 'uucu', 'uug', 'uuga', 'uugc', 'uugg', 'uugu', 'uuu', 'uuua', 'uuuc', 'uuug', 'uuuu']\n",
      "[[15  3  1 ...  1  1  0]\n",
      " [15  5  1 ...  1  1  0]\n",
      " [23  7  1 ...  0  0  0]\n",
      " ...\n",
      " [23  9  4 ...  0  1  1]\n",
      " [12  4  1 ...  0  1  0]\n",
      " [ 9  1  0 ...  1  0  0]]\n",
      "['aa', 'aaa', 'aaaa', 'aaac', 'aaag', 'aaau', 'aac', 'aaca', 'aacc', 'aacg', 'aacu', 'aag', 'aaga', 'aagc', 'aagg', 'aagu', 'aau', 'aaua', 'aauc', 'aaug', 'aauu', 'ac', 'aca', 'acaa', 'acac', 'acag', 'acau', 'acc', 'acca', 'accc', 'accg', 'accu', 'acg', 'acga', 'acgc', 'acgg', 'acgu', 'acu', 'acua', 'acuc', 'acug', 'acuu', 'ag', 'aga', 'agaa', 'agac', 'agag', 'agau', 'agc', 'agca', 'agcc', 'agcg', 'agcu', 'agg', 'agga', 'aggc', 'aggg', 'aggu', 'agu', 'agua', 'aguc', 'agug', 'aguu', 'au', 'aua', 'auaa', 'auac', 'auag', 'auau', 'auc', 'auca', 'aucc', 'aucg', 'aucu', 'aug', 'auga', 'augc', 'augg', 'augu', 'auu', 'auua', 'auuc', 'auug', 'auuu', 'ca', 'caa', 'caaa', 'caac', 'caag', 'caau', 'cac', 'caca', 'cacc', 'cacg', 'cacu', 'cag', 'caga', 'cagc', 'cagg', 'cagu', 'cau', 'caua', 'cauc', 'caug', 'cauu', 'cc', 'cca', 'ccaa', 'ccac', 'ccag', 'ccau', 'ccc', 'ccca', 'cccc', 'cccg', 'cccu', 'ccg', 'ccga', 'ccgc', 'ccgg', 'ccgu', 'ccu', 'ccua', 'ccuc', 'ccug', 'ccuu', 'cg', 'cga', 'cgaa', 'cgac', 'cgag', 'cgau', 'cgc', 'cgca', 'cgcc', 'cgcg', 'cgcu', 'cgg', 'cgga', 'cggc', 'cggg', 'cggu', 'cgu', 'cgua', 'cguc', 'cgug', 'cguu', 'cu', 'cua', 'cuaa', 'cuac', 'cuag', 'cuau', 'cuc', 'cuca', 'cucc', 'cucg', 'cucu', 'cug', 'cuga', 'cugc', 'cugg', 'cugu', 'cuu', 'cuua', 'cuuc', 'cuug', 'cuuu', 'ga', 'gaa', 'gaaa', 'gaac', 'gaag', 'gaau', 'gac', 'gaca', 'gacc', 'gacg', 'gacu', 'gag', 'gaga', 'gagc', 'gagg', 'gagu', 'gau', 'gaua', 'gauc', 'gaug', 'gauu', 'gc', 'gca', 'gcaa', 'gcac', 'gcag', 'gcau', 'gcc', 'gcca', 'gccc', 'gccg', 'gccu', 'gcg', 'gcga', 'gcgc', 'gcgg', 'gcgu', 'gcu', 'gcua', 'gcuc', 'gcug', 'gcuu', 'gg', 'gga', 'ggaa', 'ggac', 'ggag', 'ggau', 'ggc', 'ggca', 'ggcc', 'ggcg', 'ggcu', 'ggg', 'ggga', 'gggc', 'gggg', 'gggu', 'ggu', 'ggua', 'gguc', 'ggug', 'gguu', 'gu', 'gua', 'guaa', 'guac', 'guag', 'guau', 'guc', 'guca', 'gucc', 'gucg', 'gucu', 'gug', 'guga', 'gugc', 'gugg', 'gugu', 'guu', 'guua', 'guuc', 'guug', 'guuu', 'ua', 'uaa', 'uaaa', 'uaac', 'uaag', 'uaau', 'uac', 'uaca', 'uacc', 'uacg', 'uacu', 'uag', 'uaga', 'uagc', 'uagg', 'uagu', 'uau', 'uaua', 'uauc', 'uaug', 'uauu', 'uc', 'uca', 'ucaa', 'ucac', 'ucag', 'ucau', 'ucc', 'ucca', 'uccc', 'uccg', 'uccu', 'ucg', 'ucga', 'ucgc', 'ucgg', 'ucgu', 'ucu', 'ucua', 'ucuc', 'ucug', 'ucuu', 'ug', 'uga', 'ugaa', 'ugac', 'ugag', 'ugau', 'ugc', 'ugca', 'ugcc', 'ugcg', 'ugcu', 'ugg', 'ugga', 'uggc', 'uggg', 'uggu', 'ugu', 'ugua', 'uguc', 'ugug', 'uguu', 'uu', 'uua', 'uuaa', 'uuac', 'uuag', 'uuau', 'uuc', 'uuca', 'uucc', 'uucg', 'uucu', 'uug', 'uuga', 'uugc', 'uugg', 'uugu', 'uuu', 'uuua', 'uuuc', 'uuug', 'uuuu']\n",
      "[[ 8  2  0 ...  1  0  0]\n",
      " [26 12  5 ...  0  2  3]\n",
      " [13  4  1 ...  0  0  0]\n",
      " ...\n",
      " [10  1  0 ...  1  0  0]\n",
      " [16  3  0 ...  0  0  2]\n",
      " [13  2  1 ...  0  1  0]]\n",
      "['aa', 'aaa', 'aaaa', 'aaac', 'aaag', 'aaau', 'aac', 'aaca', 'aacc', 'aacg', 'aacu', 'aag', 'aaga', 'aagc', 'aagg', 'aagu', 'aau', 'aaua', 'aauc', 'aaug', 'aauu', 'ac', 'aca', 'acaa', 'acac', 'acag', 'acau', 'acc', 'acca', 'accc', 'accg', 'accu', 'acg', 'acga', 'acgc', 'acgg', 'acgu', 'acu', 'acua', 'acuc', 'acug', 'acuu', 'ag', 'aga', 'agaa', 'agac', 'agag', 'agau', 'agc', 'agca', 'agcc', 'agcg', 'agcu', 'agg', 'agga', 'aggc', 'aggg', 'aggu', 'agu', 'agua', 'aguc', 'agug', 'aguu', 'au', 'aua', 'auaa', 'auac', 'auag', 'auau', 'auc', 'auca', 'aucc', 'aucg', 'aucu', 'aug', 'auga', 'augc', 'augg', 'augu', 'auu', 'auua', 'auuc', 'auug', 'auuu', 'ca', 'caa', 'caaa', 'caac', 'caag', 'caau', 'cac', 'caca', 'cacc', 'cacg', 'cacu', 'cag', 'caga', 'cagc', 'cagg', 'cagu', 'cau', 'caua', 'cauc', 'caug', 'cauu', 'cc', 'cca', 'ccaa', 'ccac', 'ccag', 'ccau', 'ccc', 'ccca', 'cccc', 'cccg', 'cccu', 'ccg', 'ccga', 'ccgc', 'ccgg', 'ccgu', 'ccu', 'ccua', 'ccuc', 'ccug', 'ccuu', 'cg', 'cga', 'cgaa', 'cgac', 'cgag', 'cgau', 'cgc', 'cgca', 'cgcc', 'cgcg', 'cgcu', 'cgg', 'cgga', 'cggc', 'cggg', 'cggu', 'cgu', 'cgua', 'cguc', 'cgug', 'cguu', 'cu', 'cua', 'cuaa', 'cuac', 'cuag', 'cuau', 'cuc', 'cuca', 'cucc', 'cucg', 'cucu', 'cug', 'cuga', 'cugc', 'cugg', 'cugu', 'cuu', 'cuua', 'cuuc', 'cuug', 'cuuu', 'ga', 'gaa', 'gaaa', 'gaac', 'gaag', 'gaau', 'gac', 'gaca', 'gacc', 'gacg', 'gacu', 'gag', 'gaga', 'gagc', 'gagg', 'gagu', 'gau', 'gaua', 'gauc', 'gaug', 'gauu', 'gc', 'gca', 'gcaa', 'gcac', 'gcag', 'gcau', 'gcc', 'gcca', 'gccc', 'gccg', 'gccu', 'gcg', 'gcga', 'gcgc', 'gcgg', 'gcgu', 'gcu', 'gcua', 'gcuc', 'gcug', 'gcuu', 'gg', 'gga', 'ggaa', 'ggac', 'ggag', 'ggau', 'ggc', 'ggca', 'ggcc', 'ggcg', 'ggcu', 'ggg', 'ggga', 'gggc', 'gggg', 'gggu', 'ggu', 'ggua', 'gguc', 'ggug', 'gguu', 'gu', 'gua', 'guaa', 'guac', 'guag', 'guau', 'guc', 'guca', 'gucc', 'gucg', 'gucu', 'gug', 'guga', 'gugc', 'gugg', 'gugu', 'guu', 'guua', 'guuc', 'guug', 'guuu', 'ua', 'uaa', 'uaaa', 'uaac', 'uaag', 'uaau', 'uac', 'uaca', 'uacc', 'uacg', 'uacu', 'uag', 'uaga', 'uagc', 'uagg', 'uagu', 'uau', 'uaua', 'uauc', 'uaug', 'uauu', 'uc', 'uca', 'ucaa', 'ucac', 'ucag', 'ucau', 'ucc', 'ucca', 'uccc', 'uccg', 'uccu', 'ucg', 'ucga', 'ucgc', 'ucgg', 'ucgu', 'ucu', 'ucua', 'ucuc', 'ucug', 'ucuu', 'ug', 'uga', 'ugaa', 'ugac', 'ugag', 'ugau', 'ugc', 'ugca', 'ugcc', 'ugcg', 'ugcu', 'ugg', 'ugga', 'uggc', 'uggg', 'uggu', 'ugu', 'ugua', 'uguc', 'ugug', 'uguu', 'uu', 'uua', 'uuaa', 'uuac', 'uuag', 'uuau', 'uuc', 'uuca', 'uucc', 'uucg', 'uucu', 'uug', 'uuga', 'uugc', 'uugg', 'uugu', 'uuu', 'uuua', 'uuuc', 'uuug', 'uuuu']\n",
      "[[22  7  2 ...  5  2  1]\n",
      " [31  6  0 ...  0  1  1]\n",
      " [29  6  0 ...  1  0  0]\n",
      " ...\n",
      " [25  8  1 ...  1  0  0]\n",
      " [34 13  4 ...  0  1  2]\n",
      " [23  6  0 ...  0  0  0]]\n",
      "['aa', 'aaa', 'aaaa', 'aaac', 'aaag', 'aaau', 'aac', 'aaca', 'aacc', 'aacg', 'aacu', 'aag', 'aaga', 'aagc', 'aagg', 'aagu', 'aau', 'aaua', 'aauc', 'aaug', 'aauu', 'ac', 'aca', 'acaa', 'acac', 'acag', 'acau', 'acc', 'acca', 'accc', 'accg', 'accu', 'acg', 'acga', 'acgc', 'acgg', 'acgu', 'acu', 'acua', 'acuc', 'acug', 'acuu', 'ag', 'aga', 'agaa', 'agac', 'agag', 'agau', 'agc', 'agca', 'agcc', 'agcg', 'agcu', 'agg', 'agga', 'aggc', 'aggg', 'aggu', 'agu', 'agua', 'aguc', 'agug', 'aguu', 'au', 'aua', 'auaa', 'auac', 'auag', 'auc', 'auca', 'aucc', 'aucg', 'aucu', 'aug', 'auga', 'augc', 'augg', 'augu', 'auu', 'auua', 'auug', 'auuu', 'ca', 'caa', 'caaa', 'caac', 'caag', 'caau', 'cac', 'caca', 'cacc', 'cacg', 'cacu', 'cag', 'caga', 'cagc', 'cagg', 'cagu', 'cau', 'cauc', 'caug', 'cauu', 'cc', 'cca', 'ccaa', 'ccac', 'ccag', 'ccau', 'ccc', 'ccca', 'cccc', 'cccg', 'cccu', 'ccg', 'ccga', 'ccgc', 'ccgg', 'ccgu', 'ccu', 'ccua', 'ccuc', 'ccug', 'ccuu', 'cg', 'cga', 'cgaa', 'cgac', 'cgag', 'cgau', 'cgc', 'cgca', 'cgcc', 'cgcg', 'cgcu', 'cgg', 'cgga', 'cggc', 'cggg', 'cggu', 'cgu', 'cgua', 'cguc', 'cgug', 'cguu', 'cu', 'cua', 'cuaa', 'cuac', 'cuag', 'cuau', 'cuc', 'cuca', 'cucc', 'cucg', 'cucu', 'cug', 'cuga', 'cugc', 'cugg', 'cugu', 'cuu', 'cuua', 'cuuc', 'cuug', 'cuuu', 'ga', 'gaa', 'gaaa', 'gaac', 'gaag', 'gaau', 'gac', 'gaca', 'gacc', 'gacg', 'gacu', 'gag', 'gaga', 'gagc', 'gagg', 'gagu', 'gau', 'gaua', 'gauc', 'gaug', 'gauu', 'gc', 'gca', 'gcaa', 'gcac', 'gcag', 'gcau', 'gcc', 'gcca', 'gccc', 'gccg', 'gccu', 'gcg', 'gcga', 'gcgc', 'gcgg', 'gcgu', 'gcu', 'gcua', 'gcuc', 'gcug', 'gcuu', 'gg', 'gga', 'ggaa', 'ggac', 'ggag', 'ggau', 'ggc', 'ggca', 'ggcc', 'ggcg', 'ggcu', 'ggg', 'ggga', 'gggc', 'gggg', 'gggu', 'ggu', 'ggua', 'gguc', 'ggug', 'gguu', 'gu', 'gua', 'guaa', 'guac', 'guag', 'guc', 'guca', 'gucc', 'gucg', 'gucu', 'gug', 'guga', 'gugc', 'gugg', 'gugu', 'guu', 'guua', 'guuc', 'guug', 'guuu', 'ua', 'uaa', 'uaaa', 'uaac', 'uaag', 'uaau', 'uac', 'uaca', 'uacc', 'uacg', 'uacu', 'uag', 'uaga', 'uagc', 'uagg', 'uagu', 'uau', 'uaua', 'uauc', 'uaug', 'uauu', 'uc', 'uca', 'ucaa', 'ucac', 'ucag', 'ucau', 'ucc', 'ucca', 'uccc', 'uccg', 'uccu', 'ucg', 'ucga', 'ucgc', 'ucgg', 'ucgu', 'ucu', 'ucua', 'ucuc', 'ucug', 'ucuu', 'ug', 'uga', 'ugaa', 'ugac', 'ugag', 'ugau', 'ugc', 'ugca', 'ugcc', 'ugcg', 'ugcu', 'ugg', 'ugga', 'uggc', 'uggg', 'uggu', 'ugu', 'ugua', 'uguc', 'ugug', 'uguu', 'uu', 'uua', 'uuaa', 'uuac', 'uuag', 'uuau', 'uuc', 'uuca', 'uucc', 'uucg', 'uucu', 'uug', 'uuga', 'uugc', 'uugg', 'uugu', 'uuu', 'uuua', 'uuuc', 'uuug', 'uuuu']\n",
      "[[31  9  3 ...  5  0  2]\n",
      " [31  9  3 ...  4  2  0]\n",
      " [23  5  0 ...  1  1  1]\n",
      " ...\n",
      " [33 11  3 ...  3  4  1]\n",
      " [33 10  3 ...  3  1  1]\n",
      " [36 13  4 ...  3  1  4]]\n",
      "['aa', 'aaa', 'aaaa', 'aaac', 'aaag', 'aaau', 'aac', 'aaca', 'aacc', 'aacg', 'aacu', 'aag', 'aaga', 'aagg', 'aagu', 'aau', 'aaua', 'aauc', 'aaug', 'aauu', 'ac', 'aca', 'acaa', 'acac', 'acag', 'acau', 'acc', 'acca', 'accc', 'accg', 'accu', 'acg', 'acga', 'acgc', 'acgg', 'acgu', 'acu', 'acuc', 'acug', 'acuu', 'ag', 'aga', 'agaa', 'agac', 'agag', 'agau', 'agc', 'agca', 'agcc', 'agcg', 'agcu', 'agg', 'agga', 'aggc', 'aggg', 'aggu', 'agu', 'agua', 'aguc', 'agug', 'aguu', 'au', 'aua', 'auaa', 'auac', 'auag', 'auau', 'auc', 'auca', 'aucc', 'aucg', 'aucu', 'aug', 'auga', 'augg', 'augu', 'auu', 'auua', 'auuc', 'auug', 'auuu', 'ca', 'caa', 'caaa', 'caac', 'caag', 'caau', 'cac', 'caca', 'cacc', 'cacg', 'cacu', 'cag', 'caga', 'cagc', 'cagg', 'cagu', 'cau', 'caua', 'cauc', 'caug', 'cauu', 'cc', 'cca', 'ccaa', 'ccac', 'ccag', 'ccau', 'ccc', 'cccc', 'cccg', 'cccu', 'ccg', 'ccga', 'ccgc', 'ccgg', 'ccgu', 'ccu', 'ccua', 'ccuc', 'ccug', 'ccuu', 'cg', 'cga', 'cgaa', 'cgac', 'cgag', 'cgau', 'cgc', 'cgca', 'cgcc', 'cgcg', 'cgcu', 'cgg', 'cgga', 'cggc', 'cggg', 'cggu', 'cgu', 'cgua', 'cguc', 'cgug', 'cguu', 'cu', 'cua', 'cuaa', 'cuac', 'cuag', 'cuau', 'cuc', 'cuca', 'cucc', 'cucg', 'cucu', 'cug', 'cuga', 'cugc', 'cugg', 'cugu', 'cuu', 'cuua', 'cuuc', 'cuug', 'cuuu', 'ga', 'gaa', 'gaaa', 'gaac', 'gaag', 'gaau', 'gac', 'gaca', 'gacc', 'gacg', 'gacu', 'gag', 'gaga', 'gagc', 'gagg', 'gagu', 'gau', 'gaua', 'gauc', 'gaug', 'gauu', 'gc', 'gca', 'gcaa', 'gcac', 'gcag', 'gcau', 'gcc', 'gcca', 'gccc', 'gccg', 'gccu', 'gcg', 'gcga', 'gcgc', 'gcgg', 'gcgu', 'gcu', 'gcua', 'gcuc', 'gcug', 'gcuu', 'gg', 'gga', 'ggaa', 'ggac', 'ggag', 'ggau', 'ggc', 'ggca', 'ggcc', 'ggcg', 'ggcu', 'ggg', 'ggga', 'gggc', 'gggg', 'gggu', 'ggu', 'ggua', 'gguc', 'ggug', 'gguu', 'gu', 'gua', 'guaa', 'guac', 'guag', 'guau', 'guc', 'guca', 'gucc', 'gucg', 'gucu', 'gug', 'guga', 'gugc', 'gugg', 'gugu', 'guu', 'guua', 'guuc', 'guug', 'guuu', 'ua', 'uaa', 'uaaa', 'uaac', 'uaag', 'uaau', 'uac', 'uaca', 'uacc', 'uacg', 'uacu', 'uag', 'uaga', 'uagc', 'uagg', 'uagu', 'uau', 'uaua', 'uauc', 'uaug', 'uauu', 'uc', 'uca', 'ucaa', 'ucac', 'ucag', 'ucau', 'ucc', 'ucca', 'uccc', 'uccg', 'uccu', 'ucg', 'ucga', 'ucgc', 'ucgg', 'ucgu', 'ucu', 'ucua', 'ucuc', 'ucug', 'ucuu', 'ug', 'uga', 'ugaa', 'ugac', 'ugag', 'ugau', 'ugc', 'ugca', 'ugcc', 'ugcg', 'ugcu', 'ugg', 'ugga', 'uggc', 'uggg', 'uggu', 'ugu', 'ugua', 'uguc', 'ugug', 'uguu', 'uu', 'uua', 'uuaa', 'uuac', 'uuag', 'uuau', 'uuc', 'uuca', 'uucc', 'uucg', 'uucu', 'uug', 'uuga', 'uugc', 'uugg', 'uugu', 'uuu', 'uuua', 'uuuc', 'uuug', 'uuuu']\n",
      "[[22  5  1 ...  3  3  1]\n",
      " [23  6  1 ...  4  4  6]\n",
      " [21  4  0 ...  2  4  2]\n",
      " ...\n",
      " [59 23  7 ...  2  4  5]\n",
      " [28  4  0 ...  4  5  5]\n",
      " [59 23  7 ...  1  4  5]]\n"
     ]
    },
    {
     "ename": "ValueError",
     "evalue": "empty vocabulary; perhaps the documents only contain stop words",
     "output_type": "error",
     "traceback": [
      "\u001b[1;31m---------------------------------------------------------------------------\u001b[0m",
      "\u001b[1;31mValueError\u001b[0m                                Traceback (most recent call last)",
      "Input \u001b[1;32mIn [12]\u001b[0m, in \u001b[0;36m<cell line: 2>\u001b[1;34m()\u001b[0m\n\u001b[0;32m      7\u001b[0m \u001b[38;5;66;03m# Générer une représentation vectorielle des séquences basée sur les 2-mer, 3-mer et 4-mer\u001b[39;00m\n\u001b[0;32m      8\u001b[0m vectorizer \u001b[38;5;241m=\u001b[39m CountVectorizer(analyzer\u001b[38;5;241m=\u001b[39m\u001b[38;5;124m'\u001b[39m\u001b[38;5;124mchar\u001b[39m\u001b[38;5;124m'\u001b[39m, ngram_range\u001b[38;5;241m=\u001b[39m(\u001b[38;5;241m2\u001b[39m,\u001b[38;5;241m4\u001b[39m))\n\u001b[1;32m----> 9\u001b[0m X \u001b[38;5;241m=\u001b[39m \u001b[43mvectorizer\u001b[49m\u001b[38;5;241;43m.\u001b[39;49m\u001b[43mfit_transform\u001b[49m\u001b[43m(\u001b[49m\u001b[43msequences\u001b[49m\u001b[43m)\u001b[49m\n\u001b[0;32m     11\u001b[0m \u001b[38;5;66;03m# Calculer le score de chaque motif\u001b[39;00m\n\u001b[0;32m     12\u001b[0m motif_scores \u001b[38;5;241m=\u001b[39m X\u001b[38;5;241m.\u001b[39msum(axis\u001b[38;5;241m=\u001b[39m\u001b[38;5;241m0\u001b[39m) \u001b[38;5;241m/\u001b[39m X\u001b[38;5;241m.\u001b[39mshape[\u001b[38;5;241m0\u001b[39m]\n",
      "File \u001b[1;32m~\\anaconda3\\lib\\site-packages\\sklearn\\feature_extraction\\text.py:1330\u001b[0m, in \u001b[0;36mCountVectorizer.fit_transform\u001b[1;34m(self, raw_documents, y)\u001b[0m\n\u001b[0;32m   1322\u001b[0m             warnings\u001b[38;5;241m.\u001b[39mwarn(\n\u001b[0;32m   1323\u001b[0m                 \u001b[38;5;124m\"\u001b[39m\u001b[38;5;124mUpper case characters found in\u001b[39m\u001b[38;5;124m\"\u001b[39m\n\u001b[0;32m   1324\u001b[0m                 \u001b[38;5;124m\"\u001b[39m\u001b[38;5;124m vocabulary while \u001b[39m\u001b[38;5;124m'\u001b[39m\u001b[38;5;124mlowercase\u001b[39m\u001b[38;5;124m'\u001b[39m\u001b[38;5;124m\"\u001b[39m\n\u001b[0;32m   1325\u001b[0m                 \u001b[38;5;124m\"\u001b[39m\u001b[38;5;124m is True. These entries will not\u001b[39m\u001b[38;5;124m\"\u001b[39m\n\u001b[0;32m   1326\u001b[0m                 \u001b[38;5;124m\"\u001b[39m\u001b[38;5;124m be matched with any documents\u001b[39m\u001b[38;5;124m\"\u001b[39m\n\u001b[0;32m   1327\u001b[0m             )\n\u001b[0;32m   1328\u001b[0m             \u001b[38;5;28;01mbreak\u001b[39;00m\n\u001b[1;32m-> 1330\u001b[0m vocabulary, X \u001b[38;5;241m=\u001b[39m \u001b[38;5;28;43mself\u001b[39;49m\u001b[38;5;241;43m.\u001b[39;49m\u001b[43m_count_vocab\u001b[49m\u001b[43m(\u001b[49m\u001b[43mraw_documents\u001b[49m\u001b[43m,\u001b[49m\u001b[43m \u001b[49m\u001b[38;5;28;43mself\u001b[39;49m\u001b[38;5;241;43m.\u001b[39;49m\u001b[43mfixed_vocabulary_\u001b[49m\u001b[43m)\u001b[49m\n\u001b[0;32m   1332\u001b[0m \u001b[38;5;28;01mif\u001b[39;00m \u001b[38;5;28mself\u001b[39m\u001b[38;5;241m.\u001b[39mbinary:\n\u001b[0;32m   1333\u001b[0m     X\u001b[38;5;241m.\u001b[39mdata\u001b[38;5;241m.\u001b[39mfill(\u001b[38;5;241m1\u001b[39m)\n",
      "File \u001b[1;32m~\\anaconda3\\lib\\site-packages\\sklearn\\feature_extraction\\text.py:1220\u001b[0m, in \u001b[0;36mCountVectorizer._count_vocab\u001b[1;34m(self, raw_documents, fixed_vocab)\u001b[0m\n\u001b[0;32m   1218\u001b[0m     vocabulary \u001b[38;5;241m=\u001b[39m \u001b[38;5;28mdict\u001b[39m(vocabulary)\n\u001b[0;32m   1219\u001b[0m     \u001b[38;5;28;01mif\u001b[39;00m \u001b[38;5;129;01mnot\u001b[39;00m vocabulary:\n\u001b[1;32m-> 1220\u001b[0m         \u001b[38;5;28;01mraise\u001b[39;00m \u001b[38;5;167;01mValueError\u001b[39;00m(\n\u001b[0;32m   1221\u001b[0m             \u001b[38;5;124m\"\u001b[39m\u001b[38;5;124mempty vocabulary; perhaps the documents only contain stop words\u001b[39m\u001b[38;5;124m\"\u001b[39m\n\u001b[0;32m   1222\u001b[0m         )\n\u001b[0;32m   1224\u001b[0m \u001b[38;5;28;01mif\u001b[39;00m indptr[\u001b[38;5;241m-\u001b[39m\u001b[38;5;241m1\u001b[39m] \u001b[38;5;241m>\u001b[39m np\u001b[38;5;241m.\u001b[39miinfo(np\u001b[38;5;241m.\u001b[39mint32)\u001b[38;5;241m.\u001b[39mmax:  \u001b[38;5;66;03m# = 2**31 - 1\u001b[39;00m\n\u001b[0;32m   1225\u001b[0m     \u001b[38;5;28;01mif\u001b[39;00m _IS_32BIT:\n",
      "\u001b[1;31mValueError\u001b[0m: empty vocabulary; perhaps the documents only contain stop words"
     ]
    }
   ],
   "source": [
    "\n",
    "# On parcourt chaque groupe de longueur\n",
    "for i in range(len(bins)-1):\n",
    "    # Sélectionner les séquences dans ce groupe de longueur\n",
    "    group_df = df[(df['length'] > bins[i]) & (df['length'] <= bins[i+1])]\n",
    "    sequences = group_df['sequence'].tolist()\n",
    "\n",
    "    # On génère une représentation vectorielle des séquences basée sur les 2-mer, 3-mer et 4-mer\n",
    "    vectorizer = CountVectorizer(analyzer='char', ngram_range=(2,4))\n",
    "    X = vectorizer.fit_transform(sequences)\n",
    "\n",
    "    # On calcule le score de chaque motif\n",
    "    motif_scores = X.sum(axis=0) / X.shape[0]\n",
    "\n",
    "    # On supprime les motifs non fréquents\n",
    "    frequent_motifs = [motif for motif, score in zip(vectorizer.get_feature_names(), motif_scores.tolist()[0]) if score >= 1/3]\n",
    "    X = X[:, [i for i, motif in enumerate(vectorizer.get_feature_names()) if motif in frequent_motifs]]\n",
    "\n",
    "    # On affiche les noms des motifs fréquents\n",
    "    print(frequent_motifs)\n",
    "\n",
    "    # On affiche la matrice de données avec les motifs fréquents uniquement\n",
    "    print(X.toarray())"
   ]
  },
  {
   "cell_type": "raw",
   "id": "0f8df106",
   "metadata": {},
   "source": [
    "Il est important de retirer les motifs les moins fréquents de la représentation car ils peuvent introduire du bruit dans la modélisation. En effet, si un motif est présent dans seulement quelques séquences, il peut être considéré comme une caractéristique spécifique à ces séquences et ne pas refléter les caractéristiques communes du groupe de séquences dans lequel on souhaite effectuer le partitionnement. En retirant ces motifs, on peut améliorer la qualité de la représentation et par conséquent la qualité du partitionnement des données. De plus, cela peut réduire la dimensionnalité de la représentation et faciliter l'analyse de nos données."
   ]
  },
  {
   "cell_type": "raw",
   "id": "56cf92e4",
   "metadata": {},
   "source": [
    "2 c)"
   ]
  },
  {
   "cell_type": "code",
   "execution_count": 13,
   "id": "6d3c5310",
   "metadata": {},
   "outputs": [
    {
     "name": "stdout",
     "output_type": "stream",
     "text": [
      "Meilleure valeur de k pour les séquences de longueur 0-100 : 7\n"
     ]
    },
    {
     "name": "stderr",
     "output_type": "stream",
     "text": [
      "C:\\Users\\dell\\anaconda3\\lib\\site-packages\\sklearn\\utils\\deprecation.py:87: FutureWarning: Function get_feature_names is deprecated; get_feature_names is deprecated in 1.0 and will be removed in 1.2. Please use get_feature_names_out instead.\n",
      "  warnings.warn(msg, category=FutureWarning)\n"
     ]
    },
    {
     "name": "stdout",
     "output_type": "stream",
     "text": [
      "Meilleure valeur de k pour les séquences de longueur 100-200 : 9\n"
     ]
    },
    {
     "name": "stderr",
     "output_type": "stream",
     "text": [
      "C:\\Users\\dell\\anaconda3\\lib\\site-packages\\sklearn\\utils\\deprecation.py:87: FutureWarning: Function get_feature_names is deprecated; get_feature_names is deprecated in 1.0 and will be removed in 1.2. Please use get_feature_names_out instead.\n",
      "  warnings.warn(msg, category=FutureWarning)\n"
     ]
    },
    {
     "name": "stdout",
     "output_type": "stream",
     "text": [
      "Meilleure valeur de k pour les séquences de longueur 200-300 : 7\n"
     ]
    },
    {
     "name": "stderr",
     "output_type": "stream",
     "text": [
      "C:\\Users\\dell\\anaconda3\\lib\\site-packages\\sklearn\\utils\\deprecation.py:87: FutureWarning: Function get_feature_names is deprecated; get_feature_names is deprecated in 1.0 and will be removed in 1.2. Please use get_feature_names_out instead.\n",
      "  warnings.warn(msg, category=FutureWarning)\n"
     ]
    },
    {
     "name": "stdout",
     "output_type": "stream",
     "text": [
      "Meilleure valeur de k pour les séquences de longueur 300-400 : 2\n"
     ]
    },
    {
     "name": "stderr",
     "output_type": "stream",
     "text": [
      "C:\\Users\\dell\\anaconda3\\lib\\site-packages\\sklearn\\utils\\deprecation.py:87: FutureWarning: Function get_feature_names is deprecated; get_feature_names is deprecated in 1.0 and will be removed in 1.2. Please use get_feature_names_out instead.\n",
      "  warnings.warn(msg, category=FutureWarning)\n"
     ]
    },
    {
     "name": "stdout",
     "output_type": "stream",
     "text": [
      "Meilleure valeur de k pour les séquences de longueur 400-500 : 5\n"
     ]
    },
    {
     "name": "stderr",
     "output_type": "stream",
     "text": [
      "C:\\Users\\dell\\anaconda3\\lib\\site-packages\\sklearn\\utils\\deprecation.py:87: FutureWarning: Function get_feature_names is deprecated; get_feature_names is deprecated in 1.0 and will be removed in 1.2. Please use get_feature_names_out instead.\n",
      "  warnings.warn(msg, category=FutureWarning)\n"
     ]
    },
    {
     "name": "stdout",
     "output_type": "stream",
     "text": [
      "Meilleure valeur de k pour les séquences de longueur 500-1000 : 2\n"
     ]
    },
    {
     "ename": "ValueError",
     "evalue": "empty vocabulary; perhaps the documents only contain stop words",
     "output_type": "error",
     "traceback": [
      "\u001b[1;31m---------------------------------------------------------------------------\u001b[0m",
      "\u001b[1;31mValueError\u001b[0m                                Traceback (most recent call last)",
      "Input \u001b[1;32mIn [13]\u001b[0m, in \u001b[0;36m<cell line: 5>\u001b[1;34m()\u001b[0m\n\u001b[0;32m     10\u001b[0m \u001b[38;5;66;03m# Générer une représentation vectorielle des séquences basée sur les 2-mer, 3-mer et 4-mer\u001b[39;00m\n\u001b[0;32m     11\u001b[0m vectorizer \u001b[38;5;241m=\u001b[39m CountVectorizer(analyzer\u001b[38;5;241m=\u001b[39m\u001b[38;5;124m'\u001b[39m\u001b[38;5;124mchar\u001b[39m\u001b[38;5;124m'\u001b[39m, ngram_range\u001b[38;5;241m=\u001b[39m(\u001b[38;5;241m2\u001b[39m,\u001b[38;5;241m4\u001b[39m))\n\u001b[1;32m---> 12\u001b[0m X \u001b[38;5;241m=\u001b[39m \u001b[43mvectorizer\u001b[49m\u001b[38;5;241;43m.\u001b[39;49m\u001b[43mfit_transform\u001b[49m\u001b[43m(\u001b[49m\u001b[43msequences\u001b[49m\u001b[43m)\u001b[49m\n\u001b[0;32m     14\u001b[0m \u001b[38;5;66;03m# Supprimer les motifs non fréquents\u001b[39;00m\n\u001b[0;32m     15\u001b[0m motif_scores \u001b[38;5;241m=\u001b[39m X\u001b[38;5;241m.\u001b[39msum(axis\u001b[38;5;241m=\u001b[39m\u001b[38;5;241m0\u001b[39m) \u001b[38;5;241m/\u001b[39m X\u001b[38;5;241m.\u001b[39mshape[\u001b[38;5;241m0\u001b[39m]\n",
      "File \u001b[1;32m~\\anaconda3\\lib\\site-packages\\sklearn\\feature_extraction\\text.py:1330\u001b[0m, in \u001b[0;36mCountVectorizer.fit_transform\u001b[1;34m(self, raw_documents, y)\u001b[0m\n\u001b[0;32m   1322\u001b[0m             warnings\u001b[38;5;241m.\u001b[39mwarn(\n\u001b[0;32m   1323\u001b[0m                 \u001b[38;5;124m\"\u001b[39m\u001b[38;5;124mUpper case characters found in\u001b[39m\u001b[38;5;124m\"\u001b[39m\n\u001b[0;32m   1324\u001b[0m                 \u001b[38;5;124m\"\u001b[39m\u001b[38;5;124m vocabulary while \u001b[39m\u001b[38;5;124m'\u001b[39m\u001b[38;5;124mlowercase\u001b[39m\u001b[38;5;124m'\u001b[39m\u001b[38;5;124m\"\u001b[39m\n\u001b[0;32m   1325\u001b[0m                 \u001b[38;5;124m\"\u001b[39m\u001b[38;5;124m is True. These entries will not\u001b[39m\u001b[38;5;124m\"\u001b[39m\n\u001b[0;32m   1326\u001b[0m                 \u001b[38;5;124m\"\u001b[39m\u001b[38;5;124m be matched with any documents\u001b[39m\u001b[38;5;124m\"\u001b[39m\n\u001b[0;32m   1327\u001b[0m             )\n\u001b[0;32m   1328\u001b[0m             \u001b[38;5;28;01mbreak\u001b[39;00m\n\u001b[1;32m-> 1330\u001b[0m vocabulary, X \u001b[38;5;241m=\u001b[39m \u001b[38;5;28;43mself\u001b[39;49m\u001b[38;5;241;43m.\u001b[39;49m\u001b[43m_count_vocab\u001b[49m\u001b[43m(\u001b[49m\u001b[43mraw_documents\u001b[49m\u001b[43m,\u001b[49m\u001b[43m \u001b[49m\u001b[38;5;28;43mself\u001b[39;49m\u001b[38;5;241;43m.\u001b[39;49m\u001b[43mfixed_vocabulary_\u001b[49m\u001b[43m)\u001b[49m\n\u001b[0;32m   1332\u001b[0m \u001b[38;5;28;01mif\u001b[39;00m \u001b[38;5;28mself\u001b[39m\u001b[38;5;241m.\u001b[39mbinary:\n\u001b[0;32m   1333\u001b[0m     X\u001b[38;5;241m.\u001b[39mdata\u001b[38;5;241m.\u001b[39mfill(\u001b[38;5;241m1\u001b[39m)\n",
      "File \u001b[1;32m~\\anaconda3\\lib\\site-packages\\sklearn\\feature_extraction\\text.py:1220\u001b[0m, in \u001b[0;36mCountVectorizer._count_vocab\u001b[1;34m(self, raw_documents, fixed_vocab)\u001b[0m\n\u001b[0;32m   1218\u001b[0m     vocabulary \u001b[38;5;241m=\u001b[39m \u001b[38;5;28mdict\u001b[39m(vocabulary)\n\u001b[0;32m   1219\u001b[0m     \u001b[38;5;28;01mif\u001b[39;00m \u001b[38;5;129;01mnot\u001b[39;00m vocabulary:\n\u001b[1;32m-> 1220\u001b[0m         \u001b[38;5;28;01mraise\u001b[39;00m \u001b[38;5;167;01mValueError\u001b[39;00m(\n\u001b[0;32m   1221\u001b[0m             \u001b[38;5;124m\"\u001b[39m\u001b[38;5;124mempty vocabulary; perhaps the documents only contain stop words\u001b[39m\u001b[38;5;124m\"\u001b[39m\n\u001b[0;32m   1222\u001b[0m         )\n\u001b[0;32m   1224\u001b[0m \u001b[38;5;28;01mif\u001b[39;00m indptr[\u001b[38;5;241m-\u001b[39m\u001b[38;5;241m1\u001b[39m] \u001b[38;5;241m>\u001b[39m np\u001b[38;5;241m.\u001b[39miinfo(np\u001b[38;5;241m.\u001b[39mint32)\u001b[38;5;241m.\u001b[39mmax:  \u001b[38;5;66;03m# = 2**31 - 1\u001b[39;00m\n\u001b[0;32m   1225\u001b[0m     \u001b[38;5;28;01mif\u001b[39;00m _IS_32BIT:\n",
      "\u001b[1;31mValueError\u001b[0m: empty vocabulary; perhaps the documents only contain stop words"
     ]
    }
   ],
   "source": [
    "from sklearn.cluster import KMeans\n",
    "from sklearn.metrics import silhouette_score\n",
    "\n",
    "for i in range(len(bins)-1):\n",
    "    group_df = df[(df['length'] > bins[i]) & (df['length'] <= bins[i+1])]\n",
    "    sequences = group_df['sequence'].tolist()\n",
    "\n",
    "    vectorizer = CountVectorizer(analyzer='char', ngram_range=(2,4))\n",
    "    X = vectorizer.fit_transform(sequences)\n",
    "\n",
    "    motif_scores = X.sum(axis=0) / X.shape[0]\n",
    "    frequent_motifs = [motif for motif, score in zip(vectorizer.get_feature_names(), motif_scores.tolist()[0]) if score >= 1/3]\n",
    "    X = X[:, [i for i, motif in enumerate(vectorizer.get_feature_names()) if motif in frequent_motifs]]\n",
    "\n",
    "    max_k = min(X.shape[0], 10)\n",
    "    best_silhouette_score = -1\n",
    "    best_k = -1\n",
    "    for k in range(2, max_k+1):\n",
    "        kmeans = KMeans(n_clusters=k)\n",
    "        labels = kmeans.fit_predict(X)\n",
    "        silhouette_avg = silhouette_score(X, labels)\n",
    "        if silhouette_avg > best_silhouette_score:\n",
    "            best_silhouette_score = silhouette_avg\n",
    "            best_k = k\n",
    "\n",
    "    print(f\"Meilleure valeur de k pour les séquences de longueur {bins[i]}-{bins[i+1]} : {best_k}\")"
   ]
  },
  {
   "cell_type": "raw",
   "id": "0a8d9e25",
   "metadata": {},
   "source": [
    "3 a)"
   ]
  },
  {
   "cell_type": "code",
   "execution_count": 14,
   "id": "4e2a4ea5",
   "metadata": {},
   "outputs": [
    {
     "name": "stdout",
     "output_type": "stream",
     "text": [
      "Requirement already satisfied: biopython in c:\\users\\dell\\anaconda3\\lib\\site-packages (1.81)\n",
      "Requirement already satisfied: numpy in c:\\users\\dell\\anaconda3\\lib\\site-packages (from biopython) (1.21.5)\n"
     ]
    }
   ],
   "source": [
    "!pip install biopython"
   ]
  },
  {
   "cell_type": "code",
   "execution_count": 15,
   "id": "ddf4bde2",
   "metadata": {},
   "outputs": [
    {
     "data": {
      "text/plain": [
       "array([2, 1, 0, 3, 4, 5], dtype=int64)"
      ]
     },
     "execution_count": 15,
     "metadata": {},
     "output_type": "execute_result"
    }
   ],
   "source": [
    "df['group'].unique()"
   ]
  },
  {
   "cell_type": "code",
   "execution_count": 16,
   "id": "f5b4f2fe",
   "metadata": {},
   "outputs": [
    {
     "name": "stderr",
     "output_type": "stream",
     "text": [
      "C:\\Users\\dell\\anaconda3\\lib\\site-packages\\Bio\\pairwise2.py:278: BiopythonDeprecationWarning: Bio.pairwise2 has been deprecated, and we intend to remove it in a future release of Biopython. As an alternative, please consider using Bio.Align.PairwiseAligner as a replacement, and contact the Biopython developers if you still need the Bio.pairwise2 module.\n",
      "  warnings.warn(\n"
     ]
    },
    {
     "name": "stdout",
     "output_type": "stream",
     "text": [
      "[[ 0. 11. 59. ... 54.  2. 50.]\n",
      " [11.  0. 56. ... 55. 13. 45.]\n",
      " [59. 56.  0. ... 17. 59. 45.]\n",
      " ...\n",
      " [54. 55. 17. ...  0. 54. 46.]\n",
      " [ 2. 13. 59. ... 54.  0. 50.]\n",
      " [50. 45. 45. ... 46. 50.  0.]]\n"
     ]
    }
   ],
   "source": [
    "from Bio import pairwise2\n",
    "\n",
    "group0 = df.loc[df['group'] == 0, 'sequence'].tolist()\n",
    "n = len(group0)\n",
    "dist_matrix0 = np.zeros((n, n))\n",
    "\n",
    "# On calcule la distance d'édition simple pour chaque paire de séquences dans le groupe 0\n",
    "for i in range(n):\n",
    "    for j in range(i+1, n):\n",
    "        alignment = pairwise2.align.globalxx(group0[i], group0[j])\n",
    "        distance = alignment[0][4] - alignment[0][2]\n",
    "        dist_matrix0[i][j] = distance\n",
    "        dist_matrix0[j][i] = distance\n",
    "\n",
    "print(dist_matrix0)"
   ]
  },
  {
   "cell_type": "code",
   "execution_count": 17,
   "id": "b56fa1df",
   "metadata": {},
   "outputs": [
    {
     "name": "stdout",
     "output_type": "stream",
     "text": [
      "[[  0. 143. 133. ... 135. 138. 136.]\n",
      " [143.   0. 136. ... 128. 131. 147.]\n",
      " [133. 136.   0. ... 116. 133. 149.]\n",
      " ...\n",
      " [135. 128. 116. ...   0. 131. 147.]\n",
      " [138. 131. 133. ... 131.   0. 142.]\n",
      " [136. 147. 149. ... 147. 142.   0.]]\n"
     ]
    }
   ],
   "source": [
    "group1 = df.loc[df['group'] == 1, 'sequence'].tolist()\n",
    "n = len(group1)\n",
    "dist_matrix1 = np.zeros((n, n))\n",
    "\n",
    "for i in range(n):\n",
    "    for j in range(i+1, n):\n",
    "        alignment = pairwise2.align.globalxx(group1[i], group1[j])\n",
    "        distance = alignment[0][4] - alignment[0][2]\n",
    "        dist_matrix1[i][j] = distance\n",
    "        dist_matrix1[j][i] = distance\n",
    "\n",
    "print(dist_matrix1)"
   ]
  },
  {
   "cell_type": "code",
   "execution_count": 18,
   "id": "f1cb3814",
   "metadata": {},
   "outputs": [
    {
     "name": "stdout",
     "output_type": "stream",
     "text": [
      "[[  0. 154. 101. ... 114. 197. 140.]\n",
      " [154.   0. 153. ... 154. 195. 154.]\n",
      " [101. 153.   0. ...  97. 208. 163.]\n",
      " ...\n",
      " [114. 154.  97. ...   0. 199. 164.]\n",
      " [197. 195. 208. ... 199.   0. 193.]\n",
      " [140. 154. 163. ... 164. 193.   0.]]\n"
     ]
    }
   ],
   "source": [
    "group2 = df.loc[df['group'] == 2, 'sequence'].tolist()\n",
    "n = len(group2)\n",
    "dist_matrix2 = np.zeros((n, n))\n",
    "\n",
    "for i in range(n):\n",
    "    for j in range(i+1, n):\n",
    "        alignment = pairwise2.align.globalxx(group2[i], group2[j])\n",
    "        distance = alignment[0][4] - alignment[0][2]\n",
    "        dist_matrix2[i][j] = distance\n",
    "        dist_matrix2[j][i] = distance\n",
    "\n",
    "print(dist_matrix2)"
   ]
  },
  {
   "cell_type": "code",
   "execution_count": 19,
   "id": "51c35451",
   "metadata": {},
   "outputs": [
    {
     "name": "stdout",
     "output_type": "stream",
     "text": [
      "[[  0. 247. 280. ... 217. 266. 252.]\n",
      " [247.   0. 209. ... 278. 251. 177.]\n",
      " [280. 209.   0. ... 263. 278. 194.]\n",
      " ...\n",
      " [217. 278. 263. ...   0. 281. 261.]\n",
      " [266. 251. 278. ... 281.   0. 258.]\n",
      " [252. 177. 194. ... 261. 258.   0.]]\n"
     ]
    }
   ],
   "source": [
    "group3 = df.loc[df['group'] == 3, 'sequence'].tolist()\n",
    "n = len(group3)\n",
    "dist_matrix3 = np.zeros((n, n))\n",
    "\n",
    "for i in range(n):\n",
    "    for j in range(i+1, n):\n",
    "        alignment = pairwise2.align.globalxx(group3[i], group3[j])\n",
    "        distance = alignment[0][4] - alignment[0][2]\n",
    "        dist_matrix3[i][j] = distance\n",
    "        dist_matrix3[j][i] = distance\n",
    "\n",
    "print(dist_matrix3)"
   ]
  },
  {
   "cell_type": "code",
   "execution_count": 20,
   "id": "c0f620fc",
   "metadata": {},
   "outputs": [
    {
     "name": "stdout",
     "output_type": "stream",
     "text": [
      "[[  0.  83. 316. ...  92.  74.  90.]\n",
      " [ 83.   0. 315. ...  79.  79.  71.]\n",
      " [316. 315.   0. ... 318. 318. 318.]\n",
      " ...\n",
      " [ 92.  79. 318. ...   0.  74.  76.]\n",
      " [ 74.  79. 318. ...  74.   0.  66.]\n",
      " [ 90.  71. 318. ...  76.  66.   0.]]\n"
     ]
    }
   ],
   "source": [
    "group4 = df.loc[df['group'] == 4, 'sequence'].tolist()\n",
    "n = len(group4)\n",
    "dist_matrix4 = np.zeros((n, n))\n",
    "\n",
    "for i in range(n):\n",
    "    for j in range(i+1, n):\n",
    "        alignment = pairwise2.align.globalxx(group4[i], group4[j])\n",
    "        distance = alignment[0][4] - alignment[0][2]\n",
    "        dist_matrix4[i][j] = distance\n",
    "        dist_matrix4[j][i] = distance\n",
    "\n",
    "print(dist_matrix4)"
   ]
  },
  {
   "cell_type": "code",
   "execution_count": 21,
   "id": "d0e52937",
   "metadata": {},
   "outputs": [
    {
     "name": "stdout",
     "output_type": "stream",
     "text": [
      "[[  0. 281. 276. 268. 392. 269. 390. 268. 278. 283. 280. 284. 384. 388.\n",
      "  296. 395.]\n",
      " [281.   0.  49.  65. 403.  64. 403.  65.  53.  90.  65.  97. 387. 401.\n",
      "  269. 404.]\n",
      " [276.  49.   0.  54. 394.  55. 394.  54.   6.  79.  58.  82. 384. 394.\n",
      "  270. 397.]\n",
      " [268.  65.  54.   0. 400.   1. 400.   0.  60. 101.  68. 104. 390. 404.\n",
      "  274. 405.]\n",
      " [392. 403. 394. 400.   0. 401.   2. 400. 392. 395. 394. 396. 380.  20.\n",
      "  386.  33.]\n",
      " [269.  64.  55.   1. 401.   0. 401.   1.  59. 100.  67. 103. 391. 405.\n",
      "  275. 406.]\n",
      " [390. 403. 394. 400.   2. 401.   0. 400. 392. 395. 394. 396. 382.  18.\n",
      "  386.  31.]\n",
      " [268.  65.  54.   0. 400.   1. 400.   0.  60. 101.  68. 104. 390. 404.\n",
      "  274. 405.]\n",
      " [278.  53.   6.  60. 392.  59. 392.  60.   0.  83.  60.  86. 384. 392.\n",
      "  274. 395.]\n",
      " [283.  90.  79. 101. 395. 100. 395. 101.  83.   0. 101.   9. 389. 393.\n",
      "  263. 396.]\n",
      " [280.  65.  58.  68. 394.  67. 394.  68.  60. 101.   0. 106. 388. 396.\n",
      "  274. 397.]\n",
      " [284.  97.  82. 104. 396. 103. 396. 104.  86.   9. 106.   0. 386. 394.\n",
      "  264. 397.]\n",
      " [384. 387. 384. 390. 380. 391. 382. 390. 384. 389. 388. 386.   0. 376.\n",
      "  398. 389.]\n",
      " [388. 401. 394. 404.  20. 405.  18. 404. 392. 393. 396. 394. 376.   0.\n",
      "  384.  37.]\n",
      " [296. 269. 270. 274. 386. 275. 386. 274. 274. 263. 274. 264. 398. 384.\n",
      "    0. 391.]\n",
      " [395. 404. 397. 405.  33. 406.  31. 405. 395. 396. 397. 397. 389.  37.\n",
      "  391.   0.]]\n"
     ]
    }
   ],
   "source": [
    "group5 = df.loc[df['group'] == 5, 'sequence'].tolist()\n",
    "n = len(group5)\n",
    "dist_matrix5 = np.zeros((n, n))\n",
    "\n",
    "for i in range(n):\n",
    "    for j in range(i+1, n):\n",
    "        alignment = pairwise2.align.globalxx(group5[i], group5[j])\n",
    "        distance = alignment[0][4] - alignment[0][2]\n",
    "        dist_matrix5[i][j] = distance\n",
    "        dist_matrix5[j][i] = distance\n",
    "\n",
    "print(dist_matrix5)"
   ]
  },
  {
   "cell_type": "raw",
   "id": "e606d748",
   "metadata": {},
   "source": [
    "3 b)"
   ]
  },
  {
   "cell_type": "code",
   "execution_count": 22,
   "id": "3c5a8afc",
   "metadata": {},
   "outputs": [],
   "source": [
    "def KMedoid(n_clusters, X):\n",
    "    n = X.shape[0] \n",
    "    D = X.copy() \n",
    "    M = np.arange(n) \n",
    "    clusters = np.zeros(n, dtype=int) \n",
    "    old_clusters = np.ones(n) * (-1)\n",
    "\n",
    "    # On initialise aléatoirement des médoïdes\n",
    "    np.random.shuffle(M)\n",
    "    M = M[:n_clusters]\n",
    "\n",
    "    while True:\n",
    "        for i in range(n):\n",
    "            distances = D[i,M]\n",
    "            clusters[i] = np.argmin(distances)\n",
    "\n",
    "        for k in range(n_clusters):\n",
    "            cluster_indices = np.where(clusters == k)[0]\n",
    "            if len(cluster_indices) > 0:\n",
    "                distances = D[cluster_indices][:, cluster_indices]\n",
    "                costs = np.sum(distances, axis=1)\n",
    "                new_medoid = cluster_indices[np.argmin(costs)]\n",
    "                M[k] = new_medoid\n",
    "\n",
    "        if np.all(clusters == old_clusters):\n",
    "            break\n",
    "\n",
    "        old_clusters = clusters.copy()\n",
    "\n",
    "    return clusters"
   ]
  },
  {
   "cell_type": "code",
   "execution_count": 24,
   "id": "9c86a288",
   "metadata": {},
   "outputs": [
    {
     "name": "stdout",
     "output_type": "stream",
     "text": [
      "[1 2 0 1 0 2 1 2 0 2 1 0 2 1 2 1 1 2 0 1 0 1 0 1 2 1 1 1 2 1 0 2 2 1 2 2 0\n",
      " 0 1 2 0 2 0 2 2 0 1 1 0 0 0 2 2 1 1 2 0 1 0 1 0 2 2 0 2 2 0 1 0 0 1 1 1 1\n",
      " 0 2 1 1 1 1 1 2 1 1 2 1 1 1 2 1 2 1 2 2 2 0 2 2 2 2 2 1 1 1 1 1 1 1 1 0 0\n",
      " 1 2 2 1 1 1 0 2 1 1 0 1 1 1 0 2 0 1 2 1 0 0 2 0 2 2 1 1 1 2 1 1 2 1 2 1 2\n",
      " 0 1 2 1 1 1 2 1 1 1 1 0 0 2 1 1 1 2 1 1 1 2 1 1 0 1 0 0 2 0 0 2 2 2 1 1 2\n",
      " 1 2 1 2 1 1 1 1 1 0 1 0 2 1 2 1 1 1 0 2 0 2 1 2 2 1 0 2 0 1 1 0 2 1 1 1 0\n",
      " 0 2 2 1 2 2 1 2 0 1 2 1 1 1 1 2 1 0 1 2 2 1 2 2 1 1 2 1 0 1 0 2 1 2 1 2 1\n",
      " 1 1 2 1 1 0 1 1 0 1 0 1 1 2 2 1 1 0 2 1 1 1 1 2 1 1 2 0 0 1 0 1 2 1 2 2 2\n",
      " 1 1 1 0 1 2]\n"
     ]
    }
   ],
   "source": [
    "y = KMedoid(n_clusters=3, X=dist_matrix0)\n",
    "print(y)"
   ]
  },
  {
   "cell_type": "raw",
   "id": "60d8dcb7",
   "metadata": {},
   "source": [
    "3 c)"
   ]
  },
  {
   "cell_type": "code",
   "execution_count": 25,
   "id": "9893f45d",
   "metadata": {},
   "outputs": [
    {
     "name": "stdout",
     "output_type": "stream",
     "text": [
      "Requirement already satisfied: scikit-learn-extra in c:\\users\\dell\\anaconda3\\lib\\site-packages (0.3.0)\n",
      "Requirement already satisfied: scikit-learn>=0.23.0 in c:\\users\\dell\\anaconda3\\lib\\site-packages (from scikit-learn-extra) (1.0.2)\n",
      "Requirement already satisfied: numpy>=1.13.3 in c:\\users\\dell\\anaconda3\\lib\\site-packages (from scikit-learn-extra) (1.21.5)\n",
      "Requirement already satisfied: scipy>=0.19.1 in c:\\users\\dell\\anaconda3\\lib\\site-packages (from scikit-learn-extra) (1.7.3)\n",
      "Requirement already satisfied: threadpoolctl>=2.0.0 in c:\\users\\dell\\anaconda3\\lib\\site-packages (from scikit-learn>=0.23.0->scikit-learn-extra) (2.2.0)\n",
      "Requirement already satisfied: joblib>=0.11 in c:\\users\\dell\\anaconda3\\lib\\site-packages (from scikit-learn>=0.23.0->scikit-learn-extra) (1.1.0)\n",
      "Note: you may need to restart the kernel to use updated packages.\n"
     ]
    }
   ],
   "source": [
    "pip install scikit-learn-extra"
   ]
  },
  {
   "cell_type": "code",
   "execution_count": 26,
   "id": "bd3d6cef",
   "metadata": {},
   "outputs": [],
   "source": [
    "import sklearn_extra\n",
    "from sklearn_extra.cluster import KMedoids\n",
    "from sklearn.metrics import silhouette_score\n",
    "\n",
    "def find_best_k_medoids(n_clusters_range, X):\n",
    "    silhouette_scores = []\n",
    "    for n_clusters in n_clusters_range:\n",
    "        kmedoids = KMedoids(n_clusters=n_clusters, random_state=42, metric='precomputed')\n",
    "        kmedoids.fit(X)\n",
    "        clusters = kmedoids.labels_\n",
    "        silhouette_avg = silhouette_score(X, clusters, metric='precomputed')\n",
    "        silhouette_scores.append(silhouette_avg)\n",
    "\n",
    "    best_n_clusters = n_clusters_range[np.argmax(silhouette_scores)]\n",
    "    best_silhouette = max(silhouette_scores)\n",
    "\n",
    "    return best_n_clusters, best_silhouette"
   ]
  },
  {
   "cell_type": "code",
   "execution_count": 27,
   "id": "6d313261",
   "metadata": {},
   "outputs": [
    {
     "name": "stdout",
     "output_type": "stream",
     "text": [
      "Meilleur nombre de clusters : 8\n",
      "Meilleur nombre de clusters : 4\n",
      "Meilleur nombre de clusters : 2\n",
      "Meilleur nombre de clusters : 4\n",
      "Meilleur nombre de clusters : 8\n",
      "Meilleur nombre de clusters : 2\n"
     ]
    },
    {
     "name": "stderr",
     "output_type": "stream",
     "text": [
      "C:\\Users\\dell\\anaconda3\\lib\\site-packages\\sklearn_extra\\cluster\\_k_medoids.py:329: UserWarning: Cluster 5 is empty! self.labels_[self.medoid_indices_[5]] may not be labeled with its corresponding cluster (5).\n",
      "  warnings.warn(\n",
      "C:\\Users\\dell\\anaconda3\\lib\\site-packages\\sklearn_extra\\cluster\\_k_medoids.py:329: UserWarning: Cluster 5 is empty! self.labels_[self.medoid_indices_[5]] may not be labeled with its corresponding cluster (5).\n",
      "  warnings.warn(\n",
      "C:\\Users\\dell\\anaconda3\\lib\\site-packages\\sklearn_extra\\cluster\\_k_medoids.py:329: UserWarning: Cluster 5 is empty! self.labels_[self.medoid_indices_[5]] may not be labeled with its corresponding cluster (5).\n",
      "  warnings.warn(\n",
      "C:\\Users\\dell\\anaconda3\\lib\\site-packages\\sklearn_extra\\cluster\\_k_medoids.py:329: UserWarning: Cluster 7 is empty! self.labels_[self.medoid_indices_[7]] may not be labeled with its corresponding cluster (7).\n",
      "  warnings.warn(\n",
      "C:\\Users\\dell\\anaconda3\\lib\\site-packages\\sklearn_extra\\cluster\\_k_medoids.py:329: UserWarning: Cluster 3 is empty! self.labels_[self.medoid_indices_[3]] may not be labeled with its corresponding cluster (3).\n",
      "  warnings.warn(\n",
      "C:\\Users\\dell\\anaconda3\\lib\\site-packages\\sklearn_extra\\cluster\\_k_medoids.py:329: UserWarning: Cluster 6 is empty! self.labels_[self.medoid_indices_[6]] may not be labeled with its corresponding cluster (6).\n",
      "  warnings.warn(\n",
      "C:\\Users\\dell\\anaconda3\\lib\\site-packages\\sklearn_extra\\cluster\\_k_medoids.py:329: UserWarning: Cluster 8 is empty! self.labels_[self.medoid_indices_[8]] may not be labeled with its corresponding cluster (8).\n",
      "  warnings.warn(\n",
      "C:\\Users\\dell\\anaconda3\\lib\\site-packages\\sklearn_extra\\cluster\\_k_medoids.py:329: UserWarning: Cluster 3 is empty! self.labels_[self.medoid_indices_[3]] may not be labeled with its corresponding cluster (3).\n",
      "  warnings.warn(\n",
      "C:\\Users\\dell\\anaconda3\\lib\\site-packages\\sklearn_extra\\cluster\\_k_medoids.py:329: UserWarning: Cluster 6 is empty! self.labels_[self.medoid_indices_[6]] may not be labeled with its corresponding cluster (6).\n",
      "  warnings.warn(\n",
      "C:\\Users\\dell\\anaconda3\\lib\\site-packages\\sklearn_extra\\cluster\\_k_medoids.py:329: UserWarning: Cluster 8 is empty! self.labels_[self.medoid_indices_[8]] may not be labeled with its corresponding cluster (8).\n",
      "  warnings.warn(\n",
      "C:\\Users\\dell\\anaconda3\\lib\\site-packages\\sklearn_extra\\cluster\\_k_medoids.py:329: UserWarning: Cluster 3 is empty! self.labels_[self.medoid_indices_[3]] may not be labeled with its corresponding cluster (3).\n",
      "  warnings.warn(\n",
      "C:\\Users\\dell\\anaconda3\\lib\\site-packages\\sklearn_extra\\cluster\\_k_medoids.py:329: UserWarning: Cluster 3 is empty! self.labels_[self.medoid_indices_[3]] may not be labeled with its corresponding cluster (3).\n",
      "  warnings.warn(\n",
      "C:\\Users\\dell\\anaconda3\\lib\\site-packages\\sklearn_extra\\cluster\\_k_medoids.py:329: UserWarning: Cluster 3 is empty! self.labels_[self.medoid_indices_[3]] may not be labeled with its corresponding cluster (3).\n",
      "  warnings.warn(\n",
      "C:\\Users\\dell\\anaconda3\\lib\\site-packages\\sklearn_extra\\cluster\\_k_medoids.py:329: UserWarning: Cluster 3 is empty! self.labels_[self.medoid_indices_[3]] may not be labeled with its corresponding cluster (3).\n",
      "  warnings.warn(\n",
      "C:\\Users\\dell\\anaconda3\\lib\\site-packages\\sklearn_extra\\cluster\\_k_medoids.py:329: UserWarning: Cluster 4 is empty! self.labels_[self.medoid_indices_[4]] may not be labeled with its corresponding cluster (4).\n",
      "  warnings.warn(\n",
      "C:\\Users\\dell\\anaconda3\\lib\\site-packages\\sklearn_extra\\cluster\\_k_medoids.py:329: UserWarning: Cluster 4 is empty! self.labels_[self.medoid_indices_[4]] may not be labeled with its corresponding cluster (4).\n",
      "  warnings.warn(\n",
      "C:\\Users\\dell\\anaconda3\\lib\\site-packages\\sklearn_extra\\cluster\\_k_medoids.py:329: UserWarning: Cluster 4 is empty! self.labels_[self.medoid_indices_[4]] may not be labeled with its corresponding cluster (4).\n",
      "  warnings.warn(\n"
     ]
    }
   ],
   "source": [
    "# Recherche du meilleur nombre de clusters\n",
    "for k in [dist_matrix0,dist_matrix1,dist_matrix2,dist_matrix3,dist_matrix4,dist_matrix5]:\n",
    "     best_k, silhouette_scores = find_best_k_medoids(range(2, 11), k)\n",
    "\n",
    "# Affichage du meilleur nombre de clusters trouvé\n",
    "     print(f\"Meilleur nombre de clusters : {best_k}\")"
   ]
  },
  {
   "cell_type": "raw",
   "id": "83fcda79",
   "metadata": {},
   "source": [
    "4 )  Les résultats de la question 2 ont produit des clusters basés sur une représentation vectorielle des séquences, tandis que les résultats de la question 3 ont produit des clusters basés sur une matrice de distances d'édition simple entre les séquences.\n"
   ]
  },
  {
   "cell_type": "raw",
   "id": "1e6eb24f",
   "metadata": {},
   "source": [
    "4 a) "
   ]
  },
  {
   "cell_type": "raw",
   "id": "3605dfbf",
   "metadata": {},
   "source": [
    "Dans l'approche de la représentation vectorielle des données (question 2), chaque ARN-nc est représenté comme un vecteur de fréquences de motifs 2-mer, 3-mer et 4-mer. Les clusters obtenus dans cette approche peuvent être analysés pour identifier des caractéristiques communes et spécifiques à chaque groupe. Par exemple, si un cluster contient principalement des ARN-nc impliqués dans la régulation de l'expression génique, cela pourrait suggérer que les motifs les plus fréquents dans ce cluster sont importants pour cette fonction.\n",
    "\n",
    "En utilisant les clusters obtenus dans la question 2, on arrive à analyser les caractéristiques communes et spécifiques des données de chaque cluster. Cependant, cette analyse est limitée à la fréquence d'apparition des 2-mers, 3-mers,4-mers dans chaque cluster, ce qui ne permet pas une analyse en profondeur de la signification sémantique des clusters.\n"
   ]
  },
  {
   "cell_type": "raw",
   "id": "fcccf58d",
   "metadata": {},
   "source": [
    "4 b)"
   ]
  },
  {
   "cell_type": "raw",
   "id": "dbdcfeb3",
   "metadata": {},
   "source": [
    "Dans l'approche de la matrice de distances (question 3), les ARN-nc sont comparés les uns aux autres à l'aide de la distance d'édition simple entre leurs séquences. Les clusters obtenus dans cette approche peuvent être analysés pour identifier une séquence représentative de chaque groupe. Cette séquence pourrait être considérée comme la séquence « moyenne » du cluster et pourrait être utilisée pour identifier les caractéristiques les plus importantes de ce groupe.\n",
    "\n",
    "En utilisant les clusters obtenus dans la question 3, il est donc possible de proposer une séquence représentative des données de chaque cluster. par conséquant, cette analyse permet une compréhension plus approfondie de la signification sémantique des clusters, car elle prend en compte la distance d'édition simple entre les séquences."
   ]
  },
  {
   "cell_type": "raw",
   "id": "ce853680",
   "metadata": {},
   "source": [
    "4 c)"
   ]
  },
  {
   "cell_type": "raw",
   "id": "034d3dff",
   "metadata": {},
   "source": [
    "on conclut d'àprès les deux questions qui prècèdent que  l'approche basée sur la matrice de distances (question 3) permet une analyse plus approfondie de la signification sémantique des clusters, car elle prend en compte la distance d'édition simple entre les séquences. Cette distance peut être utilisée pour identifier des séquences représentatives et pour comparer les similitudes et les différences entre les séquences de chaque cluster et en passer un par un pour les regrouper."
   ]
  }
 ],
 "metadata": {
  "kernelspec": {
   "display_name": "Python 3 (ipykernel)",
   "language": "python",
   "name": "python3"
  },
  "language_info": {
   "codemirror_mode": {
    "name": "ipython",
    "version": 3
   },
   "file_extension": ".py",
   "mimetype": "text/x-python",
   "name": "python",
   "nbconvert_exporter": "python",
   "pygments_lexer": "ipython3",
   "version": "3.9.12"
  }
 },
 "nbformat": 4,
 "nbformat_minor": 5
}
